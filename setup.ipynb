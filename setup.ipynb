{
  "nbformat": 4,
  "nbformat_minor": 0,
  "metadata": {
    "colab": {
      "name": "Untitled3.ipynb",
      "provenance": [],
      "authorship_tag": "ABX9TyMb9Ke4nxKlRJY+Vo7WGBvR",
      "include_colab_link": true
    },
    "kernelspec": {
      "name": "python3",
      "display_name": "Python 3"
    },
    "language_info": {
      "name": "python"
    },
    "accelerator": "GPU"
  },
  "cells": [
    {
      "cell_type": "markdown",
      "metadata": {
        "id": "view-in-github",
        "colab_type": "text"
      },
      "source": [
        "<a href=\"https://colab.research.google.com/github/soerenetler/spacy_target_answer/blob/master/setup.ipynb\" target=\"_parent\"><img src=\"https://colab.research.google.com/assets/colab-badge.svg\" alt=\"Open In Colab\"/></a>"
      ]
    },
    {
      "cell_type": "code",
      "metadata": {
        "id": "1v_oQY0ciH-C",
        "colab": {
          "base_uri": "https://localhost:8080/"
        },
        "outputId": "4dc8e125-ef3f-4e0f-da5f-63e4bd296178"
      },
      "source": [
        "import os\n",
        "os.system(\"git clone https://github.com/soerenetler/squad-question-generation.git\")\n",
        "os.system(\"git clone https://github.com/soerenetler/spacy_target_answer.git\")\n",
        "os.system(\"git clone https://github.com/soerenetler/crf_target_answer.git\")\n",
        "\n",
        "from google.colab import drive\n",
        "drive.mount('/content/gdrive')"
      ],
      "execution_count": 1,
      "outputs": [
        {
          "output_type": "stream",
          "text": [
            "Mounted at /content/gdrive\n"
          ],
          "name": "stdout"
        }
      ]
    },
    {
      "cell_type": "code",
      "metadata": {
        "colab": {
          "base_uri": "https://localhost:8080/"
        },
        "id": "LV0knGnkAs1c",
        "outputId": "bb6200ee-5d6e-4ded-9f60-e633a340d381"
      },
      "source": [
        "!(cd spacy_target_answer; git pull)\n",
        "!(cd squad-question-generation/; git pull)"
      ],
      "execution_count": 2,
      "outputs": [
        {
          "output_type": "stream",
          "text": [
            "Already up to date.\n",
            "Already up to date.\n"
          ],
          "name": "stdout"
        }
      ]
    },
    {
      "cell_type": "code",
      "metadata": {
        "id": "B1vT4s2s4GoA"
      },
      "source": [
        "!cp crf_target_answer/Custom.py Custom.py"
      ],
      "execution_count": 3,
      "outputs": []
    },
    {
      "cell_type": "code",
      "metadata": {
        "colab": {
          "base_uri": "https://localhost:8080/"
        },
        "id": "yjPWdFiiI4xi",
        "outputId": "cef11982-24d7-4bb5-b054-ef246f18f2e5"
      },
      "source": [
        "!nvidia-smi"
      ],
      "execution_count": 4,
      "outputs": [
        {
          "output_type": "stream",
          "text": [
            "Sun Jun 13 14:15:52 2021       \n",
            "+-----------------------------------------------------------------------------+\n",
            "| NVIDIA-SMI 465.27       Driver Version: 460.32.03    CUDA Version: 11.2     |\n",
            "|-------------------------------+----------------------+----------------------+\n",
            "| GPU  Name        Persistence-M| Bus-Id        Disp.A | Volatile Uncorr. ECC |\n",
            "| Fan  Temp  Perf  Pwr:Usage/Cap|         Memory-Usage | GPU-Util  Compute M. |\n",
            "|                               |                      |               MIG M. |\n",
            "|===============================+======================+======================|\n",
            "|   0  Tesla P100-PCIE...  Off  | 00000000:00:04.0 Off |                    0 |\n",
            "| N/A   44C    P0    28W / 250W |      0MiB / 16280MiB |      0%      Default |\n",
            "|                               |                      |                  N/A |\n",
            "+-------------------------------+----------------------+----------------------+\n",
            "                                                                               \n",
            "+-----------------------------------------------------------------------------+\n",
            "| Processes:                                                                  |\n",
            "|  GPU   GI   CI        PID   Type   Process name                  GPU Memory |\n",
            "|        ID   ID                                                   Usage      |\n",
            "|=============================================================================|\n",
            "|  No running processes found                                                 |\n",
            "+-----------------------------------------------------------------------------+\n"
          ],
          "name": "stdout"
        }
      ]
    },
    {
      "cell_type": "code",
      "metadata": {
        "id": "HXgEs_qGIxz-"
      },
      "source": [
        "#!pip install --quiet -U pip setuptools wheel"
      ],
      "execution_count": 5,
      "outputs": []
    },
    {
      "cell_type": "code",
      "metadata": {
        "id": "1m6YK0fTI0j2",
        "outputId": "635773b8-a2e8-4abc-8f3f-27ea49fd3016",
        "colab": {
          "base_uri": "https://localhost:8080/"
        }
      },
      "source": [
        "!pip install --quiet -U spacy[cuda110,transformers,lookups]"
      ],
      "execution_count": 6,
      "outputs": [
        {
          "output_type": "stream",
          "text": [
            "\u001b[K     |████████████████████████████████| 12.8MB 8.1MB/s \n",
            "\u001b[K     |████████████████████████████████| 624kB 31.9MB/s \n",
            "\u001b[K     |████████████████████████████████| 9.1MB 30.8MB/s \n",
            "\u001b[K     |████████████████████████████████| 51kB 6.6MB/s \n",
            "\u001b[K     |████████████████████████████████| 460kB 35.7MB/s \n",
            "\u001b[K     |████████████████████████████████| 165.3MB 82kB/s \n",
            "\u001b[K     |████████████████████████████████| 97.3MB 118kB/s \n",
            "\u001b[K     |████████████████████████████████| 122kB 39.4MB/s \n",
            "\u001b[K     |████████████████████████████████| 2.1MB 31.9MB/s \n",
            "\u001b[K     |████████████████████████████████| 1.0MB 24.8MB/s \n",
            "\u001b[K     |████████████████████████████████| 901kB 24.9MB/s \n",
            "\u001b[K     |████████████████████████████████| 3.3MB 29.8MB/s \n",
            "\u001b[?25h  Building wheel for smart-open (setup.py) ... \u001b[?25l\u001b[?25hdone\n"
          ],
          "name": "stdout"
        }
      ]
    },
    {
      "cell_type": "code",
      "metadata": {
        "colab": {
          "base_uri": "https://localhost:8080/"
        },
        "id": "N__oOtlnI8t8",
        "outputId": "a0e084f9-376e-4dcb-eda8-fbe09aee2fac"
      },
      "source": [
        "!python -m spacy download en_core_web_sm --quiet\n",
        "!python -m spacy download en_core_web_trf --quiet\n",
        "!python -m spacy download en_core_web_lg --quiet"
      ],
      "execution_count": 7,
      "outputs": [
        {
          "output_type": "stream",
          "text": [
            "2021-06-13 14:16:43.931539: I tensorflow/stream_executor/platform/default/dso_loader.cc:53] Successfully opened dynamic library libcudart.so.11.0\n",
            "\u001b[K     |████████████████████████████████| 13.7MB 8.1MB/s \n",
            "\u001b[?25h\u001b[38;5;2m✔ Download and installation successful\u001b[0m\n",
            "You can now load the package via spacy.load('en_core_web_sm')\n",
            "2021-06-13 14:16:52.915012: I tensorflow/stream_executor/platform/default/dso_loader.cc:53] Successfully opened dynamic library libcudart.so.11.0\n",
            "\u001b[K     |████████████████████████████████| 459.7MB 37kB/s \n",
            "\u001b[?25h\u001b[38;5;2m✔ Download and installation successful\u001b[0m\n",
            "You can now load the package via spacy.load('en_core_web_trf')\n",
            "2021-06-13 14:17:34.375045: I tensorflow/stream_executor/platform/default/dso_loader.cc:53] Successfully opened dynamic library libcudart.so.11.0\n",
            "\u001b[K     |████████████████████████████████| 778.8MB 25kB/s \n",
            "\u001b[?25h\u001b[38;5;2m✔ Download and installation successful\u001b[0m\n",
            "You can now load the package via spacy.load('en_core_web_lg')\n"
          ],
          "name": "stdout"
        }
      ]
    },
    {
      "cell_type": "code",
      "metadata": {
        "colab": {
          "base_uri": "https://localhost:8080/"
        },
        "id": "0sMcLq1RSiVC",
        "outputId": "7c0d197c-4eeb-4727-92a4-dfac6f4e34d2"
      },
      "source": [
        "!spacy validate"
      ],
      "execution_count": 8,
      "outputs": [
        {
          "output_type": "stream",
          "text": [
            "2021-06-13 14:18:41.797272: I tensorflow/stream_executor/platform/default/dso_loader.cc:53] Successfully opened dynamic library libcudart.so.11.0\n",
            "\u001b[2K\u001b[38;5;2m✔ Loaded compatibility table\u001b[0m\n",
            "\u001b[1m\n",
            "================= Installed pipeline packages (spaCy v3.0.6) =================\u001b[0m\n",
            "\u001b[38;5;4mℹ spaCy installation: /usr/local/lib/python3.7/dist-packages/spacy\u001b[0m\n",
            "\n",
            "NAME              SPACY            VERSION                            \n",
            "en_core_web_sm    >=3.0.0,<3.1.0   \u001b[38;5;2m3.0.0\u001b[0m   \u001b[38;5;2m✔\u001b[0m\n",
            "en_core_web_trf   >=3.0.0,<3.1.0   \u001b[38;5;2m3.0.0\u001b[0m   \u001b[38;5;2m✔\u001b[0m\n",
            "en_core_web_lg    >=3.0.0,<3.1.0   \u001b[38;5;2m3.0.0\u001b[0m   \u001b[38;5;2m✔\u001b[0m\n",
            "\n"
          ],
          "name": "stdout"
        }
      ]
    },
    {
      "cell_type": "code",
      "metadata": {
        "id": "GAHNgLyJG4ol",
        "colab": {
          "base_uri": "https://localhost:8080/"
        },
        "outputId": "7fbe8d8c-6af0-4079-d6a5-d4ad016666ef"
      },
      "source": [
        "# Train NER\n",
        "!python -m spacy project run corpus spacy_target_answer"
      ],
      "execution_count": 9,
      "outputs": [
        {
          "output_type": "stream",
          "text": [
            "2021-06-13 14:18:45.603758: I tensorflow/stream_executor/platform/default/dso_loader.cc:53] Successfully opened dynamic library libcudart.so.11.0\n",
            "\u001b[1m\n",
            "=================================== corpus ===================================\u001b[0m\n",
            "Running command: /usr/bin/python3 -m spacy convert /content/gdrive/MyDrive/mt-qg-data/01_data/preprocessedData/quac/sentences_conll corpus -c ner\n",
            "2021-06-13 14:18:50.906605: I tensorflow/stream_executor/platform/default/dso_loader.cc:53] Successfully opened dynamic library libcudart.so.11.0\n",
            "\u001b[38;5;4mℹ Auto-detected token-per-line NER format\u001b[0m\n",
            "\u001b[38;5;3m⚠ Document delimiters found, automatic document segmentation with `-n`\n",
            "disabled.\u001b[0m\n",
            "\u001b[38;5;2m✔ Generated output file (2302 documents): corpus/dev.spacy\u001b[0m\n",
            "\u001b[38;5;3m⚠ Document delimiters found, automatic document segmentation with `-n`\n",
            "disabled.\u001b[0m\n",
            "\u001b[38;5;2m✔ Generated output file (1000 documents): corpus/test.spacy\u001b[0m\n",
            "\u001b[38;5;3m⚠ Document delimiters found, automatic document segmentation with `-n`\n",
            "disabled.\u001b[0m\n",
            "\u001b[38;5;2m✔ Generated output file (9263 documents): corpus/train.spacy\u001b[0m\n"
          ],
          "name": "stdout"
        }
      ]
    },
    {
      "cell_type": "code",
      "metadata": {
        "id": "oEvzlYTMG6MM",
        "colab": {
          "base_uri": "https://localhost:8080/"
        },
        "outputId": "ba8563da-89df-40f2-83ec-d214a1dd63bd"
      },
      "source": [
        "!python -m spacy init fill-config ./spacy_target_answer/configs/base_config.cfg ./spacy_target_answer/configs/config.cfg\n",
        "!python -m spacy project run train spacy_target_answer"
      ],
      "execution_count": 10,
      "outputs": [
        {
          "output_type": "stream",
          "text": [
            "2021-06-13 14:20:24.415376: I tensorflow/stream_executor/platform/default/dso_loader.cc:53] Successfully opened dynamic library libcudart.so.11.0\n",
            "\u001b[38;5;2m✔ Auto-filled config with all values\u001b[0m\n",
            "\u001b[38;5;2m✔ Saved config\u001b[0m\n",
            "spacy_target_answer/configs/config.cfg\n",
            "You can now add your data and train your pipeline:\n",
            "python -m spacy train config.cfg --paths.train ./train.spacy --paths.dev ./dev.spacy\n",
            "2021-06-13 14:20:29.141087: I tensorflow/stream_executor/platform/default/dso_loader.cc:53] Successfully opened dynamic library libcudart.so.11.0\n",
            "\u001b[1m\n",
            "=================================== train ===================================\u001b[0m\n",
            "Running command: /usr/bin/python3 -m spacy train configs/config.cfg -o training/ --gpu-id 0 --paths.train corpus/train.spacy --paths.dev corpus/dev.spacy --output /content/gdrive/MyDrive/mt-qg-data/00_models/spacy_target_answer/quac/training\n",
            "2021-06-13 14:20:32.469088: I tensorflow/stream_executor/platform/default/dso_loader.cc:53] Successfully opened dynamic library libcudart.so.11.0\n",
            "\u001b[38;5;4mℹ Using GPU: 0\u001b[0m\n",
            "\u001b[1m\n",
            "=========================== Initializing pipeline ===========================\u001b[0m\n",
            "[2021-06-13 14:20:36,055] [INFO] Set up nlp object from config\n",
            "[2021-06-13 14:20:36,067] [INFO] Pipeline: ['transformer', 'ner']\n",
            "[2021-06-13 14:20:36,072] [INFO] Created vocabulary\n",
            "[2021-06-13 14:20:36,072] [INFO] Finished initializing nlp object\n",
            "Downloading: 100% 481/481 [00:00<00:00, 586kB/s]\n",
            "Downloading: 100% 899k/899k [00:00<00:00, 4.46MB/s]\n",
            "Downloading: 100% 456k/456k [00:00<00:00, 2.62MB/s]\n",
            "Downloading: 100% 1.36M/1.36M [00:00<00:00, 4.53MB/s]\n",
            "Downloading: 100% 501M/501M [00:12<00:00, 39.2MB/s]\n",
            "[2021-06-13 14:25:02,692] [INFO] Initialized pipeline components: ['transformer', 'ner']\n",
            "\u001b[38;5;2m✔ Initialized pipeline\u001b[0m\n",
            "\u001b[1m\n",
            "============================= Training pipeline =============================\u001b[0m\n",
            "\u001b[38;5;4mℹ Pipeline: ['transformer', 'ner']\u001b[0m\n",
            "\u001b[38;5;4mℹ Initial learn rate: 0.0\u001b[0m\n",
            "E    #       LOSS TRANS...  LOSS NER  ENTS_F  ENTS_P  ENTS_R  SCORE \n",
            "---  ------  -------------  --------  ------  ------  ------  ------\n",
            "  0       0       19010.83   1083.75    0.15    0.12    0.21    0.00\n",
            "  0     200      401787.57  43359.66    0.00    0.00    0.00    0.00\n",
            "  0     400        4681.35   7511.65    0.00    0.00    0.00    0.00\n",
            "  0     600        3709.21   6784.83    0.00    0.00    0.00    0.00\n",
            "  0     800        3682.85   6859.82    0.65   27.16    0.33    0.01\n",
            "  0    1000        3504.59   6758.58    0.83   26.27    0.42    0.01\n",
            "  0    1200        3275.16   6613.14   12.03   21.80    8.31    0.12\n",
            "  0    1400        3374.34   6805.21    1.55   27.79    0.80    0.02\n",
            "  0    1600        3018.43   6539.50    2.99   24.91    1.59    0.03\n",
            "  0    1800        2933.67   6636.05    2.76   22.30    1.47    0.03\n",
            "  0    2000        2861.60   6731.77    4.67   25.98    2.57    0.05\n",
            "  0    2200        2883.94   6695.14    5.39   20.16    3.11    0.05\n",
            "  0    2400        2683.01   6707.74    3.42   26.17    1.83    0.03\n",
            "  0    2600        2792.13   6745.19    0.75   29.82    0.38    0.01\n",
            "  1    2800        2444.68   6365.56    6.61   24.55    3.82    0.07\n",
            "\u001b[38;5;2m✔ Saved pipeline to output directory\u001b[0m\n",
            "/content/gdrive/MyDrive/mt-qg-data/00_models/spacy_target_answer/quac/training/model-last\n"
          ],
          "name": "stdout"
        }
      ]
    },
    {
      "cell_type": "code",
      "metadata": {
        "id": "Y1EGNM1WG8e4",
        "colab": {
          "base_uri": "https://localhost:8080/"
        },
        "outputId": "373acc8c-5d10-47e5-b037-d8477228189e"
      },
      "source": [
        "!python -m spacy project run evaluate spacy_target_answer"
      ],
      "execution_count": 11,
      "outputs": [
        {
          "output_type": "stream",
          "text": [
            "2021-06-13 20:43:46.329250: I tensorflow/stream_executor/platform/default/dso_loader.cc:53] Successfully opened dynamic library libcudart.so.11.0\n",
            "\u001b[1m\n",
            "================================== evaluate ==================================\u001b[0m\n",
            "Running command: /usr/bin/python3 -m spacy evaluate /content/gdrive/MyDrive/mt-qg-data/00_models/spacy_target_answer/quac/training/model-best ./corpus/test.spacy --output /content/gdrive/MyDrive/mt-qg-data/00_models/spacy_target_answer/quac/metrics/config.json --gpu-id 0\n",
            "2021-06-13 20:43:52.525474: I tensorflow/stream_executor/platform/default/dso_loader.cc:53] Successfully opened dynamic library libcudart.so.11.0\n",
            "\u001b[38;5;4mℹ Using GPU: 0\u001b[0m\n",
            "\u001b[1m\n",
            "================================== Results ==================================\u001b[0m\n",
            "\n",
            "TOK     -    \n",
            "NER P   43.62\n",
            "NER R   10.37\n",
            "NER F   16.76\n",
            "SPEED   5773 \n",
            "\n",
            "\u001b[1m\n",
            "=============================== NER (per type) ===============================\u001b[0m\n",
            "\n",
            "             P       R       F\n",
            "Answer   43.62   10.37   16.76\n",
            "\n",
            "\u001b[38;5;2m✔ Saved results to\n",
            "/content/gdrive/MyDrive/mt-qg-data/00_models/spacy_target_answer/quac/metrics/config.json\u001b[0m\n"
          ],
          "name": "stdout"
        }
      ]
    },
    {
      "cell_type": "code",
      "metadata": {
        "colab": {
          "base_uri": "https://localhost:8080/",
          "height": 144
        },
        "id": "jhK_ESJYHFt1",
        "outputId": "ed87cb13-897e-4cc5-813b-b055c217c533"
      },
      "source": [
        "import spacy\n",
        "nlp = spacy.load('/content/gdrive/MyDrive/mt-qg-data/00_models/spacy_target_answer/quac/training/model-best')\n",
        "doc = nlp(u\"There are no major roads through Golm, only state road (Landesstraße) L 902 passes through the northern parts of the village area and offers the shortest connection to federal highway (Bundesstraße) 273.  The latter can also be reached following a road extending east from Golm past Sanssouci Park to the Jägervorstadt quarter of Potsdam. The railway between Wildpark and Nauen was opened in 1902 as part of the single-tracked bypass railway (Umgehungsbahn) intended to connect the radial railway lines originating from Berlin. [...]\")\n",
        "spacy.displacy.render(doc, style='ent', jupyter =True)"
      ],
      "execution_count": 12,
      "outputs": [
        {
          "output_type": "stream",
          "text": [
            "/usr/local/lib/python3.7/dist-packages/spacy/displacy/__init__.py:189: UserWarning: [W006] No entities to visualize found in Doc object. If this is surprising to you, make sure the Doc was processed using a model that supports named entity recognition, and check the `doc.ents` property manually if necessary.\n",
            "  warnings.warn(Warnings.W006)\n"
          ],
          "name": "stderr"
        },
        {
          "output_type": "display_data",
          "data": {
            "text/html": [
              "<span class=\"tex2jax_ignore\"><div class=\"entities\" style=\"line-height: 2.5; direction: ltr\">There are no major roads through Golm, only state road (Landesstraße) L 902 passes through the northern parts of the village area and offers the shortest connection to federal highway (Bundesstraße) 273.  The latter can also be reached following a road extending east from Golm past Sanssouci Park to the Jägervorstadt quarter of Potsdam. The railway between Wildpark and Nauen was opened in 1902 as part of the single-tracked bypass railway (Umgehungsbahn) intended to connect the radial railway lines originating from Berlin. [...]</div></span>"
            ],
            "text/plain": [
              "<IPython.core.display.HTML object>"
            ]
          },
          "metadata": {
            "tags": []
          }
        }
      ]
    },
    {
      "cell_type": "code",
      "metadata": {
        "id": "iuQo4neh_4s5",
        "colab": {
          "base_uri": "https://localhost:8080/",
          "height": 122
        },
        "outputId": "a9bd0aa1-400b-4646-a7a4-9d3750a5e6f1"
      },
      "source": [
        "nlp2 = spacy.load('/content/gdrive/MyDrive/mt-qg-data/00_models/spacy_target_answer/squad/training/model-best')\n",
        "doc = nlp2(u\"There are no major roads through Golm, only state road (Landesstraße) L 902 passes through the northern parts of the village area and offers the shortest connection to federal highway (Bundesstraße) 273.  The latter can also be reached following a road extending east from Golm past Sanssouci Park to the Jägervorstadt quarter of Potsdam. The railway between Wildpark and Nauen was opened in 1902 as part of the single-tracked bypass railway (Umgehungsbahn) intended to connect the radial railway lines originating from Berlin.  [...]\")\n",
        "spacy.displacy.render(doc, style='ent', jupyter =True)"
      ],
      "execution_count": 13,
      "outputs": [
        {
          "output_type": "display_data",
          "data": {
            "text/html": [
              "<span class=\"tex2jax_ignore\"><div class=\"entities\" style=\"line-height: 2.5; direction: ltr\">There are no major roads through Golm, only state road (Landesstraße) \n",
              "<mark class=\"entity\" style=\"background: #ddd; padding: 0.45em 0.6em; margin: 0 0.25em; line-height: 1; border-radius: 0.35em;\">\n",
              "    L 902\n",
              "    <span style=\"font-size: 0.8em; font-weight: bold; line-height: 1; border-radius: 0.35em; vertical-align: middle; margin-left: 0.5rem\">Answer</span>\n",
              "</mark>\n",
              " passes through the northern parts of the village area and offers the shortest connection to federal highway (Bundesstraße) \n",
              "<mark class=\"entity\" style=\"background: #ddd; padding: 0.45em 0.6em; margin: 0 0.25em; line-height: 1; border-radius: 0.35em;\">\n",
              "    273\n",
              "    <span style=\"font-size: 0.8em; font-weight: bold; line-height: 1; border-radius: 0.35em; vertical-align: middle; margin-left: 0.5rem\">Answer</span>\n",
              "</mark>\n",
              ".  The latter can also be reached following a road extending east from Golm past Sanssouci Park to the Jägervorstadt quarter of Potsdam. The railway between Wildpark and Nauen was opened in \n",
              "<mark class=\"entity\" style=\"background: #ddd; padding: 0.45em 0.6em; margin: 0 0.25em; line-height: 1; border-radius: 0.35em;\">\n",
              "    1902\n",
              "    <span style=\"font-size: 0.8em; font-weight: bold; line-height: 1; border-radius: 0.35em; vertical-align: middle; margin-left: 0.5rem\">Answer</span>\n",
              "</mark>\n",
              " as part of the single-tracked bypass railway (\n",
              "<mark class=\"entity\" style=\"background: #ddd; padding: 0.45em 0.6em; margin: 0 0.25em; line-height: 1; border-radius: 0.35em;\">\n",
              "    Umgehungsbahn\n",
              "    <span style=\"font-size: 0.8em; font-weight: bold; line-height: 1; border-radius: 0.35em; vertical-align: middle; margin-left: 0.5rem\">Answer</span>\n",
              "</mark>\n",
              ") intended to connect the radial railway lines originating from Berlin.  [...]</div></span>"
            ],
            "text/plain": [
              "<IPython.core.display.HTML object>"
            ]
          },
          "metadata": {
            "tags": []
          }
        }
      ]
    },
    {
      "cell_type": "code",
      "metadata": {
        "id": "lu9hFZbT-nGD",
        "colab": {
          "base_uri": "https://localhost:8080/"
        },
        "outputId": "e66e0190-1a0d-4a58-8894-0983c8ef94b4"
      },
      "source": [
        "pip install scikit-learn sklearn_crfsuite -U"
      ],
      "execution_count": 14,
      "outputs": [
        {
          "output_type": "stream",
          "text": [
            "Collecting scikit-learn\n",
            "\u001b[?25l  Downloading https://files.pythonhosted.org/packages/a8/eb/a48f25c967526b66d5f1fa7a984594f0bf0a5afafa94a8c4dbc317744620/scikit_learn-0.24.2-cp37-cp37m-manylinux2010_x86_64.whl (22.3MB)\n",
            "\u001b[K     |████████████████████████████████| 22.3MB 1.6MB/s \n",
            "\u001b[?25hCollecting sklearn_crfsuite\n",
            "  Downloading https://files.pythonhosted.org/packages/25/74/5b7befa513482e6dee1f3dd68171a6c9dfc14c0eaa00f885ffeba54fe9b0/sklearn_crfsuite-0.3.6-py2.py3-none-any.whl\n",
            "Collecting threadpoolctl>=2.0.0\n",
            "  Downloading https://files.pythonhosted.org/packages/f7/12/ec3f2e203afa394a149911729357aa48affc59c20e2c1c8297a60f33f133/threadpoolctl-2.1.0-py3-none-any.whl\n",
            "Requirement already satisfied, skipping upgrade: joblib>=0.11 in /usr/local/lib/python3.7/dist-packages (from scikit-learn) (1.0.1)\n",
            "Requirement already satisfied, skipping upgrade: numpy>=1.13.3 in /usr/local/lib/python3.7/dist-packages (from scikit-learn) (1.19.5)\n",
            "Requirement already satisfied, skipping upgrade: scipy>=0.19.1 in /usr/local/lib/python3.7/dist-packages (from scikit-learn) (1.4.1)\n",
            "Requirement already satisfied, skipping upgrade: tabulate in /usr/local/lib/python3.7/dist-packages (from sklearn_crfsuite) (0.8.9)\n",
            "Collecting python-crfsuite>=0.8.3\n",
            "\u001b[?25l  Downloading https://files.pythonhosted.org/packages/79/47/58f16c46506139f17de4630dbcfb877ce41a6355a1bbf3c443edb9708429/python_crfsuite-0.9.7-cp37-cp37m-manylinux1_x86_64.whl (743kB)\n",
            "\u001b[K     |████████████████████████████████| 747kB 29.8MB/s \n",
            "\u001b[?25hRequirement already satisfied, skipping upgrade: tqdm>=2.0 in /usr/local/lib/python3.7/dist-packages (from sklearn_crfsuite) (4.41.1)\n",
            "Requirement already satisfied, skipping upgrade: six in /usr/local/lib/python3.7/dist-packages (from sklearn_crfsuite) (1.15.0)\n",
            "Installing collected packages: threadpoolctl, scikit-learn, python-crfsuite, sklearn-crfsuite\n",
            "  Found existing installation: scikit-learn 0.22.2.post1\n",
            "    Uninstalling scikit-learn-0.22.2.post1:\n",
            "      Successfully uninstalled scikit-learn-0.22.2.post1\n",
            "Successfully installed python-crfsuite-0.9.7 scikit-learn-0.24.2 sklearn-crfsuite-0.3.6 threadpoolctl-2.1.0\n"
          ],
          "name": "stdout"
        }
      ]
    },
    {
      "cell_type": "code",
      "metadata": {
        "colab": {
          "base_uri": "https://localhost:8080/"
        },
        "id": "x8b9yhUvJVJ9",
        "outputId": "691d4bcf-363c-4fd0-ef2e-c1815c77b043"
      },
      "source": [
        "import pandas as pd\n",
        "import spacy\n",
        "from spacy.tokens import Doc\n",
        "from tqdm import tqdm\n",
        "import ast\n",
        "from Custom import *\n",
        "import re\n",
        "\n",
        "spacy.require_gpu()\n",
        "dataset = \"quac\"\n",
        "df = pd.read_csv(\"/content/gdrive/MyDrive/mt-qg-data/01_data/preprocessedData/\"+dataset+\"/paragraph/test.csv\")\n",
        "df[\"askable_tokens\"] = [ast.literal_eval(t) for t in df[\"askable_tokens\"]]\n",
        "df[\"paragraph_tokens\"] = [ast.literal_eval(t) for t in df[\"paragraph_tokens\"]]\n",
        "\n",
        "print(df.columns)\n",
        "\n",
        "nlp = spacy.load('/content/gdrive/MyDrive/mt-qg-data/00_models/spacy_target_answer/'+dataset+'/training/model-best')\n",
        "def custom_tokenizer(nlp):\n",
        "    return lambda text : Doc(nlp.vocab, words=text)\n",
        "\n",
        "nlp.tokenizer = custom_tokenizer(nlp)\n",
        "nlp.add_pipe(\"sentencizer\")\n",
        "\n",
        "\n",
        "pred_y = []\n",
        "true_y = []\n",
        "\n",
        "with open(\"./trf_results.txt\", \"a\") as file:\n",
        "  for doc, y in tqdm(zip(nlp.pipe(df[\"paragraph_tokens\"]), io2iob(df[\"askable_tokens\"]))):\n",
        "    labels = []\n",
        "    for sent in doc.sents:\n",
        "      for token, y_ in zip(sent, y[sent.start:sent.end]):\n",
        "        if token.ent_iob_ ==\"O\":\n",
        "          labels.append(\"O\")\n",
        "          label_ = \"O\"\n",
        "        else:\n",
        "          labels.append(token.ent_iob_ + \"-\" + token.ent_type_)\n",
        "          label_ = token.ent_iob_ + \"-\" + token.ent_type_\n",
        "        file.write(\"{} {} {}\\n\".format(token.text, y_, label_))\n",
        "      pred_y.append(labels)\n",
        "      true_y.append(y) \n",
        "      file.write(\"\\n\")"
      ],
      "execution_count": 20,
      "outputs": [
        {
          "output_type": "stream",
          "text": [
            "Index(['Unnamed: 0', 'text_title', 'paragraph_text', 'paragraph_tokens',\n",
            "       'askable_tokens'],\n",
            "      dtype='object')\n"
          ],
          "name": "stdout"
        },
        {
          "output_type": "stream",
          "text": [
            "1000it [09:26,  1.77it/s]\n"
          ],
          "name": "stderr"
        }
      ]
    },
    {
      "cell_type": "code",
      "metadata": {
        "colab": {
          "base_uri": "https://localhost:8080/",
          "height": 91
        },
        "id": "igKchnThohvW",
        "outputId": "529fdde3-7388-41af-9010-2206cbcaa6ea"
      },
      "source": [
        "from sklearn_crfsuite import metrics\n",
        "metrics.flat_classification_report(io2iob(true_y), pred_y, digits=5)"
      ],
      "execution_count": 21,
      "outputs": [
        {
          "output_type": "stream",
          "text": [
            "/usr/local/lib/python3.7/dist-packages/sklearn/utils/validation.py:72: FutureWarning: Pass labels=None as keyword args. From version 1.0 (renaming of 0.25) passing these as positional arguments will result in an error\n",
            "  \"will result in an error\", FutureWarning)\n"
          ],
          "name": "stderr"
        },
        {
          "output_type": "execute_result",
          "data": {
            "application/vnd.google.colaboratory.intrinsic+json": {
              "type": "string"
            },
            "text/plain": [
              "'              precision    recall  f1-score   support\\n\\n    B-Answer    0.35541   0.15496   0.21582    135815\\n    I-Answer    0.48069   0.15909   0.23907   4177401\\n           O    0.70022   0.91918   0.79490   9182586\\n\\n    accuracy                        0.67622  13495802\\n   macro avg    0.51211   0.41108   0.41660  13495802\\nweighted avg    0.62880   0.67622   0.61702  13495802\\n'"
            ]
          },
          "metadata": {
            "tags": []
          },
          "execution_count": 21
        }
      ]
    },
    {
      "cell_type": "code",
      "metadata": {
        "id": "9f9e2Kge3f8o",
        "colab": {
          "base_uri": "https://localhost:8080/"
        },
        "outputId": "c40bddcb-94de-4cf6-d216-3813ec7fd371"
      },
      "source": [
        "pairs = {\n",
        "  \"answer_sentence_token\": [],\n",
        "  \"answer\": [],\n",
        "  \"answer_token\": [],\n",
        "  \"question_token\": [],\n",
        "}\n",
        "\n",
        "for doc in tqdm(nlp.pipe(df[\"paragraph_tokens\"])):\n",
        "  for sent in doc.sents:\n",
        "    for entity in sent.ents:\n",
        "      pairs[\"answer_sentence_token\"].append([t.text for t in sent])\n",
        "      pairs[\"answer\"].append(entity.text)\n",
        "      pairs[\"answer_token\"].append([t.text for t in entity])\n",
        "      pairs[\"question_token\"].append([])"
      ],
      "execution_count": 22,
      "outputs": [
        {
          "output_type": "stream",
          "text": [
            "1000it [01:23, 11.99it/s]\n"
          ],
          "name": "stderr"
        }
      ]
    },
    {
      "cell_type": "code",
      "metadata": {
        "id": "vrFRtmC95D6j"
      },
      "source": [
        "target_answer_seq = pd.DataFrame(pairs)"
      ],
      "execution_count": 23,
      "outputs": []
    },
    {
      "cell_type": "code",
      "metadata": {
        "id": "EmiVraQbqzGE"
      },
      "source": [
        "target_answer_seq.to_csv(\"/content/gdrive/MyDrive/mt-qg-data/01_data/preprocessedData/\"+dataset+\"/question_answer/trf_test.csv\")"
      ],
      "execution_count": 24,
      "outputs": []
    },
    {
      "cell_type": "code",
      "metadata": {
        "id": "0pHd3OE1q1gX"
      },
      "source": [
        ""
      ],
      "execution_count": 19,
      "outputs": []
    }
  ]
}