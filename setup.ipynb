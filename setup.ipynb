{
  "nbformat": 4,
  "nbformat_minor": 0,
  "metadata": {
    "colab": {
      "name": "Untitled3.ipynb",
      "provenance": [],
      "authorship_tag": "ABX9TyOo9Ef47Iv4y/wriekRrA3p",
      "include_colab_link": true
    },
    "kernelspec": {
      "name": "python3",
      "display_name": "Python 3"
    },
    "language_info": {
      "name": "python"
    },
    "accelerator": "GPU"
  },
  "cells": [
    {
      "cell_type": "markdown",
      "metadata": {
        "id": "view-in-github",
        "colab_type": "text"
      },
      "source": [
        "<a href=\"https://colab.research.google.com/github/soerenetler/spacy_target_answer/blob/master/setup.ipynb\" target=\"_parent\"><img src=\"https://colab.research.google.com/assets/colab-badge.svg\" alt=\"Open In Colab\"/></a>"
      ]
    },
    {
      "cell_type": "code",
      "metadata": {
        "id": "1v_oQY0ciH-C",
        "colab": {
          "base_uri": "https://localhost:8080/"
        },
        "outputId": "1128105a-b4cf-4ba5-82fd-c94e1db4fbfe"
      },
      "source": [
        "import os\n",
        "os.system(\"git clone https://github.com/soerenetler/squad-question-generation.git\")\n",
        "os.system(\"git clone https://github.com/soerenetler/spacy_target_answer.git\")\n",
        "os.system(\"git clone https://github.com/soerenetler/crf_target_answer.git\")\n",
        "\n",
        "from google.colab import drive\n",
        "drive.mount('/content/gdrive')"
      ],
      "execution_count": 31,
      "outputs": [
        {
          "output_type": "stream",
          "text": [
            "Drive already mounted at /content/gdrive; to attempt to forcibly remount, call drive.mount(\"/content/gdrive\", force_remount=True).\n"
          ],
          "name": "stdout"
        }
      ]
    },
    {
      "cell_type": "code",
      "metadata": {
        "colab": {
          "base_uri": "https://localhost:8080/"
        },
        "id": "LV0knGnkAs1c",
        "outputId": "77d2340d-baa9-4a11-a018-f1ac1fe53cc4"
      },
      "source": [
        "!(cd spacy_target_answer; git pull)\n",
        "!(cd squad-question-generation/; git pull)"
      ],
      "execution_count": 32,
      "outputs": [
        {
          "output_type": "stream",
          "text": [
            "remote: Enumerating objects: 5, done.\u001b[K\n",
            "remote: Counting objects:  20% (1/5)\u001b[K\rremote: Counting objects:  40% (2/5)\u001b[K\rremote: Counting objects:  60% (3/5)\u001b[K\rremote: Counting objects:  80% (4/5)\u001b[K\rremote: Counting objects: 100% (5/5)\u001b[K\rremote: Counting objects: 100% (5/5), done.\u001b[K\n",
            "remote: Compressing objects:  33% (1/3)\u001b[K\rremote: Compressing objects:  66% (2/3)\u001b[K\rremote: Compressing objects: 100% (3/3)\u001b[K\rremote: Compressing objects: 100% (3/3), done.\u001b[K\n",
            "remote: Total 3 (delta 2), reused 0 (delta 0), pack-reused 0\u001b[K\n",
            "Unpacking objects:  33% (1/3)   \rUnpacking objects:  66% (2/3)   \rUnpacking objects: 100% (3/3)   \rUnpacking objects: 100% (3/3), done.\n",
            "From https://github.com/soerenetler/spacy_target_answer\n",
            "   68f6e42..725c19d  master     -> origin/master\n",
            "Updating 68f6e42..725c19d\n",
            "Fast-forward\n",
            " setup.ipynb | 208 \u001b[32m++++++++++++++++++++++++++++++++++++++++\u001b[m\u001b[31m--------------------\u001b[m\n",
            " 1 file changed, 140 insertions(+), 68 deletions(-)\n",
            "Already up to date.\n"
          ],
          "name": "stdout"
        }
      ]
    },
    {
      "cell_type": "code",
      "metadata": {
        "id": "B1vT4s2s4GoA"
      },
      "source": [
        "!cp crf_target_answer/Custom.py Custom.py"
      ],
      "execution_count": 33,
      "outputs": []
    },
    {
      "cell_type": "code",
      "metadata": {
        "colab": {
          "base_uri": "https://localhost:8080/"
        },
        "id": "yjPWdFiiI4xi",
        "outputId": "91abd405-cbee-42f1-817a-9917ade04d2c"
      },
      "source": [
        "!nvidia-smi"
      ],
      "execution_count": 34,
      "outputs": [
        {
          "output_type": "stream",
          "text": [
            "Sat Jun  5 19:56:02 2021       \n",
            "+-----------------------------------------------------------------------------+\n",
            "| NVIDIA-SMI 465.27       Driver Version: 460.32.03    CUDA Version: 11.2     |\n",
            "|-------------------------------+----------------------+----------------------+\n",
            "| GPU  Name        Persistence-M| Bus-Id        Disp.A | Volatile Uncorr. ECC |\n",
            "| Fan  Temp  Perf  Pwr:Usage/Cap|         Memory-Usage | GPU-Util  Compute M. |\n",
            "|                               |                      |               MIG M. |\n",
            "|===============================+======================+======================|\n",
            "|   0  Tesla P100-PCIE...  Off  | 00000000:00:04.0 Off |                    0 |\n",
            "| N/A   38C    P0    33W / 250W |   3349MiB / 16280MiB |      0%      Default |\n",
            "|                               |                      |                  N/A |\n",
            "+-------------------------------+----------------------+----------------------+\n",
            "                                                                               \n",
            "+-----------------------------------------------------------------------------+\n",
            "| Processes:                                                                  |\n",
            "|  GPU   GI   CI        PID   Type   Process name                  GPU Memory |\n",
            "|        ID   ID                                                   Usage      |\n",
            "|=============================================================================|\n",
            "+-----------------------------------------------------------------------------+\n"
          ],
          "name": "stdout"
        }
      ]
    },
    {
      "cell_type": "code",
      "metadata": {
        "id": "HXgEs_qGIxz-"
      },
      "source": [
        "#!pip install --quiet -U pip setuptools wheel"
      ],
      "execution_count": 35,
      "outputs": []
    },
    {
      "cell_type": "code",
      "metadata": {
        "id": "1m6YK0fTI0j2"
      },
      "source": [
        "!pip install --quiet -U spacy[cuda110,transformers,lookups]"
      ],
      "execution_count": 36,
      "outputs": []
    },
    {
      "cell_type": "code",
      "metadata": {
        "colab": {
          "base_uri": "https://localhost:8080/"
        },
        "id": "N__oOtlnI8t8",
        "outputId": "1e0585ab-5a63-45c6-b4c1-03ba39f2adbf"
      },
      "source": [
        "!python -m spacy download en_core_web_sm --quiet\n",
        "!python -m spacy download en_core_web_trf --quiet\n",
        "!python -m spacy download en_core_web_lg --quiet"
      ],
      "execution_count": 37,
      "outputs": [
        {
          "output_type": "stream",
          "text": [
            "2021-06-05 19:56:11.708030: I tensorflow/stream_executor/platform/default/dso_loader.cc:53] Successfully opened dynamic library libcudart.so.11.0\n",
            "\u001b[38;5;2m✔ Download and installation successful\u001b[0m\n",
            "You can now load the package via spacy.load('en_core_web_sm')\n",
            "2021-06-05 19:56:17.621155: I tensorflow/stream_executor/platform/default/dso_loader.cc:53] Successfully opened dynamic library libcudart.so.11.0\n",
            "\u001b[38;5;2m✔ Download and installation successful\u001b[0m\n",
            "You can now load the package via spacy.load('en_core_web_trf')\n",
            "2021-06-05 19:56:23.252555: I tensorflow/stream_executor/platform/default/dso_loader.cc:53] Successfully opened dynamic library libcudart.so.11.0\n",
            "\u001b[38;5;2m✔ Download and installation successful\u001b[0m\n",
            "You can now load the package via spacy.load('en_core_web_lg')\n"
          ],
          "name": "stdout"
        }
      ]
    },
    {
      "cell_type": "code",
      "metadata": {
        "colab": {
          "base_uri": "https://localhost:8080/"
        },
        "id": "0sMcLq1RSiVC",
        "outputId": "893c48df-750d-4ab3-d756-d2681a702f60"
      },
      "source": [
        "!spacy validate"
      ],
      "execution_count": 38,
      "outputs": [
        {
          "output_type": "stream",
          "text": [
            "2021-06-05 19:56:29.208098: I tensorflow/stream_executor/platform/default/dso_loader.cc:53] Successfully opened dynamic library libcudart.so.11.0\n",
            "\u001b[2K\u001b[38;5;2m✔ Loaded compatibility table\u001b[0m\n",
            "\u001b[1m\n",
            "================= Installed pipeline packages (spaCy v3.0.6) =================\u001b[0m\n",
            "\u001b[38;5;4mℹ spaCy installation: /usr/local/lib/python3.7/dist-packages/spacy\u001b[0m\n",
            "\n",
            "NAME              SPACY            VERSION                            \n",
            "en_core_web_sm    >=3.0.0,<3.1.0   \u001b[38;5;2m3.0.0\u001b[0m   \u001b[38;5;2m✔\u001b[0m\n",
            "en_core_web_lg    >=3.0.0,<3.1.0   \u001b[38;5;2m3.0.0\u001b[0m   \u001b[38;5;2m✔\u001b[0m\n",
            "en_core_web_trf   >=3.0.0,<3.1.0   \u001b[38;5;2m3.0.0\u001b[0m   \u001b[38;5;2m✔\u001b[0m\n",
            "\n"
          ],
          "name": "stdout"
        }
      ]
    },
    {
      "cell_type": "code",
      "metadata": {
        "id": "GAHNgLyJG4ol",
        "colab": {
          "base_uri": "https://localhost:8080/"
        },
        "outputId": "e809ab23-42cb-4fe4-8172-bea9b4cf2076"
      },
      "source": [
        "# Train NER\n",
        "!python -m spacy project run corpus spacy_target_answer"
      ],
      "execution_count": null,
      "outputs": [
        {
          "output_type": "stream",
          "text": [
            "2021-04-26 19:46:40.104800: I tensorflow/stream_executor/platform/default/dso_loader.cc:49] Successfully opened dynamic library libcudart.so.11.0\n",
            "\u001b[1m\n",
            "=================================== corpus ===================================\u001b[0m\n",
            "Running command: /usr/bin/python3 -m spacy convert /content/gdrive/MyDrive/mt-qg-data/01_data/preprocessedData/quac/sentences_conll corpus -c ner\n",
            "2021-04-26 19:46:45.057616: I tensorflow/stream_executor/platform/default/dso_loader.cc:49] Successfully opened dynamic library libcudart.so.11.0\n",
            "\u001b[38;5;4mℹ Auto-detected token-per-line NER format\u001b[0m\n",
            "\u001b[38;5;3m⚠ Document delimiters found, automatic document segmentation with `-n`\n",
            "disabled.\u001b[0m\n",
            "\u001b[38;5;2m✔ Generated output file (2302 documents): corpus/dev.spacy\u001b[0m\n",
            "\u001b[38;5;3m⚠ Document delimiters found, automatic document segmentation with `-n`\n",
            "disabled.\u001b[0m\n",
            "\u001b[38;5;2m✔ Generated output file (1000 documents): corpus/test.spacy\u001b[0m\n",
            "\u001b[38;5;3m⚠ Document delimiters found, automatic document segmentation with `-n`\n",
            "disabled.\u001b[0m\n",
            "\u001b[38;5;2m✔ Generated output file (9263 documents): corpus/train.spacy\u001b[0m\n"
          ],
          "name": "stdout"
        }
      ]
    },
    {
      "cell_type": "code",
      "metadata": {
        "id": "oEvzlYTMG6MM",
        "colab": {
          "base_uri": "https://localhost:8080/"
        },
        "outputId": "bb794ec0-b092-4ad0-9f2a-9c5013ddc9be"
      },
      "source": [
        "!python -m spacy init fill-config ./spacy_target_answer/configs/base_config.cfg ./spacy_target_answer/configs/config.cfg\n",
        "!python -m spacy project run train spacy_target_answer"
      ],
      "execution_count": null,
      "outputs": [
        {
          "output_type": "stream",
          "text": [
            "2021-04-26 07:03:00.127155: I tensorflow/stream_executor/platform/default/dso_loader.cc:49] Successfully opened dynamic library libcudart.so.11.0\n",
            "\u001b[38;5;2m✔ Auto-filled config with all values\u001b[0m\n",
            "\u001b[38;5;2m✔ Saved config\u001b[0m\n",
            "spacy_target_answer/configs/config.cfg\n",
            "You can now add your data and train your pipeline:\n",
            "python -m spacy train config.cfg --paths.train ./train.spacy --paths.dev ./dev.spacy\n",
            "2021-04-26 07:03:04.039780: I tensorflow/stream_executor/platform/default/dso_loader.cc:49] Successfully opened dynamic library libcudart.so.11.0\n",
            "\u001b[1m\n",
            "=================================== train ===================================\u001b[0m\n",
            "Running command: /usr/bin/python3 -m spacy train configs/config.cfg -o training/ --gpu-id 0 --paths.train corpus/train.spacy --paths.dev corpus/dev.spacy --output /content/gdrive/MyDrive/mt-qg-data/00_models/spacy_target_answer/quac/training\n",
            "2021-04-26 07:03:06.832328: I tensorflow/stream_executor/platform/default/dso_loader.cc:49] Successfully opened dynamic library libcudart.so.11.0\n",
            "\u001b[38;5;4mℹ Using GPU: 0\u001b[0m\n",
            "\u001b[1m\n",
            "=========================== Initializing pipeline ===========================\u001b[0m\n",
            "[2021-04-26 07:03:09,418] [INFO] Set up nlp object from config\n",
            "[2021-04-26 07:03:09,427] [INFO] Pipeline: ['transformer', 'ner']\n",
            "[2021-04-26 07:03:09,431] [INFO] Created vocabulary\n",
            "[2021-04-26 07:03:09,431] [INFO] Finished initializing nlp object\n",
            "Downloading: 100% 481/481 [00:00<00:00, 632kB/s]\n",
            "Downloading: 100% 899k/899k [00:00<00:00, 13.7MB/s]\n",
            "Downloading: 100% 456k/456k [00:00<00:00, 7.27MB/s]\n",
            "Downloading: 100% 1.36M/1.36M [00:00<00:00, 16.7MB/s]\n",
            "Downloading: 100% 501M/501M [00:07<00:00, 64.2MB/s]\n",
            "[2021-04-26 07:06:31,481] [INFO] Initialized pipeline components: ['transformer', 'ner']\n",
            "\u001b[38;5;2m✔ Initialized pipeline\u001b[0m\n",
            "\u001b[1m\n",
            "============================= Training pipeline =============================\u001b[0m\n",
            "\u001b[38;5;4mℹ Pipeline: ['transformer', 'ner']\u001b[0m\n",
            "\u001b[38;5;4mℹ Initial learn rate: 0.0\u001b[0m\n",
            "E    #       LOSS TRANS...  LOSS NER  ENTS_F  ENTS_P  ENTS_R  SCORE \n",
            "---  ------  -------------  --------  ------  ------  ------  ------\n",
            "  0       0       19010.83   1083.75    0.15    0.12    0.21    0.00\n",
            "  0     200      401751.90  43361.80    0.00    0.00    0.00    0.00\n",
            "  0     400        4627.12   7217.22    0.00    0.00    0.00    0.00\n",
            "  0     600        3783.27   6908.37    5.60   25.50    3.15    0.06\n",
            "  0     800        3612.73   6836.38    5.53   24.33    3.12    0.06\n",
            "  0    1000        3471.18   6752.02    0.21   41.18    0.10    0.00\n",
            "  0    1200        3240.22   6637.51    4.05   26.50    2.19    0.04\n",
            "  0    1400        3240.79   6763.08    4.74   27.44    2.60    0.05\n",
            "  0    1600        3010.89   6548.87    1.08   31.90    0.55    0.01\n",
            "  0    1800        2919.47   6645.09    5.83   24.75    3.30    0.06\n",
            "  0    2000        2825.14   6742.59    0.15   31.25    0.07    0.00\n",
            "  0    2200        2916.10   6723.27    5.70   16.29    3.45    0.06\n",
            "  0    2400        2632.87   6704.44    3.72   28.00    1.99    0.04\n",
            "  0    2600        2695.79   6724.74    0.97   28.57    0.49    0.01\n",
            "  1    2800        2422.35   6362.74    9.06   25.42    5.51    0.09\n",
            "  1    3000        2439.33   6543.04    2.10   25.52    1.09    0.02\n",
            "  1    3200        2455.97   6507.48    8.84   20.65    5.62    0.09\n",
            "  1    3400        2406.83   6404.31    8.24   24.79    4.94    0.08\n",
            "  1    3600        2318.30   6638.28    2.57   31.97    1.34    0.03\n",
            "  1    3800        2330.84   6491.95    7.46   26.80    4.33    0.07\n",
            "  1    4000        2221.41   6529.80    5.59   27.23    3.12    0.06\n",
            "  1    4200        2163.28   6620.25    3.90   25.65    2.11    0.04\n",
            "  1    4400        2178.52   6658.44    1.67   26.54    0.86    0.02\n",
            "\u001b[38;5;2m✔ Saved pipeline to output directory\u001b[0m\n",
            "/content/gdrive/MyDrive/mt-qg-data/00_models/spacy_target_answer/quac/training/model-last\n"
          ],
          "name": "stdout"
        }
      ]
    },
    {
      "cell_type": "code",
      "metadata": {
        "id": "Y1EGNM1WG8e4",
        "colab": {
          "base_uri": "https://localhost:8080/"
        },
        "outputId": "39b6f0b3-3d86-4f19-8c23-9f82ff3726c3"
      },
      "source": [
        "!python -m spacy project run evaluate spacy_target_answer"
      ],
      "execution_count": null,
      "outputs": [
        {
          "output_type": "stream",
          "text": [
            "2021-04-26 13:43:10.899696: I tensorflow/stream_executor/platform/default/dso_loader.cc:49] Successfully opened dynamic library libcudart.so.11.0\n",
            "\u001b[1m\n",
            "================================== evaluate ==================================\u001b[0m\n",
            "Running command: /usr/bin/python3 -m spacy evaluate /content/gdrive/MyDrive/mt-qg-data/00_models/spacy_target_answer/quac/training/model-best ./corpus/test.spacy --output /content/gdrive/MyDrive/mt-qg-data/00_models/spacy_target_answer/quac/metrics/config.json --gpu-id 0\n",
            "2021-04-26 13:43:15.888179: I tensorflow/stream_executor/platform/default/dso_loader.cc:49] Successfully opened dynamic library libcudart.so.11.0\n",
            "\u001b[38;5;4mℹ Using GPU: 0\u001b[0m\n",
            "\u001b[1m\n",
            "================================== Results ==================================\u001b[0m\n",
            "\n",
            "TOK     -    \n",
            "NER P   50.37\n",
            "NER R   6.37 \n",
            "NER F   11.31\n",
            "SPEED   978  \n",
            "\n",
            "\u001b[1m\n",
            "=============================== NER (per type) ===============================\u001b[0m\n",
            "\n",
            "             P      R       F\n",
            "Answer   50.37   6.37   11.31\n",
            "\n",
            "\u001b[38;5;2m✔ Saved results to\n",
            "/content/gdrive/MyDrive/mt-qg-data/00_models/spacy_target_answer/quac/metrics/config.json\u001b[0m\n"
          ],
          "name": "stdout"
        }
      ]
    },
    {
      "cell_type": "code",
      "metadata": {
        "colab": {
          "base_uri": "https://localhost:8080/",
          "height": 87
        },
        "id": "jhK_ESJYHFt1",
        "outputId": "ec6f160e-8c8c-4487-9831-22eeae50d5b8"
      },
      "source": [
        "import spacy\n",
        "nlp = spacy.load('/content/gdrive/MyDrive/mt-qg-data/00_models/spacy_target_answer/quac/training/model-best')\n",
        "doc = nlp(u\"There are no major roads through Golm, only state road (Landesstraße) L 902 passes through the northern parts of the village area and offers the shortest connection to federal highway (Bundesstraße) 273.  The latter can also be reached following a road extending east from Golm past Sanssouci Park to the Jägervorstadt quarter of Potsdam. The railway between Wildpark and Nauen was opened in 1902 as part of the single-tracked bypass railway (Umgehungsbahn) intended to connect the radial railway lines originating from Berlin. [...]\")\n",
        "spacy.displacy.render(doc, style='ent', jupyter =True)"
      ],
      "execution_count": 39,
      "outputs": [
        {
          "output_type": "display_data",
          "data": {
            "text/html": [
              "<span class=\"tex2jax_ignore\"><div class=\"entities\" style=\"line-height: 2.5; direction: ltr\">\n",
              "<mark class=\"entity\" style=\"background: #ddd; padding: 0.45em 0.6em; margin: 0 0.25em; line-height: 1; border-radius: 0.35em;\">\n",
              "    There are no major roads through Golm, only state road (Landesstraße) L 902 passes through the northern parts of the village area and offers the shortest connection to federal highway (Bundesstraße) 273.\n",
              "    <span style=\"font-size: 0.8em; font-weight: bold; line-height: 1; border-radius: 0.35em; vertical-align: middle; margin-left: 0.5rem\">Answer</span>\n",
              "</mark>\n",
              "  The latter can also be reached following a road extending east from Golm past Sanssouci Park to the Jägervorstadt quarter of Potsdam. The railway between Wildpark and Nauen was opened in 1902 as part of the single-tracked bypass railway (Umgehungsbahn) intended to connect the radial railway lines originating from Berlin. [...]</div></span>"
            ],
            "text/plain": [
              "<IPython.core.display.HTML object>"
            ]
          },
          "metadata": {
            "tags": []
          }
        }
      ]
    },
    {
      "cell_type": "code",
      "metadata": {
        "id": "iuQo4neh_4s5",
        "colab": {
          "base_uri": "https://localhost:8080/",
          "height": 122
        },
        "outputId": "6324e544-62f5-4909-d328-c28d0c8cf427"
      },
      "source": [
        "nlp2 = spacy.load('/content/gdrive/MyDrive/mt-qg-data/00_models/spacy_target_answer/squad/training/model-best')\n",
        "doc = nlp2(u\"There are no major roads through Golm, only state road (Landesstraße) L 902 passes through the northern parts of the village area and offers the shortest connection to federal highway (Bundesstraße) 273.  The latter can also be reached following a road extending east from Golm past Sanssouci Park to the Jägervorstadt quarter of Potsdam. The railway between Wildpark and Nauen was opened in 1902 as part of the single-tracked bypass railway (Umgehungsbahn) intended to connect the radial railway lines originating from Berlin.  [...]\")\n",
        "spacy.displacy.render(doc, style='ent', jupyter =True)"
      ],
      "execution_count": 40,
      "outputs": [
        {
          "output_type": "display_data",
          "data": {
            "text/html": [
              "<span class=\"tex2jax_ignore\"><div class=\"entities\" style=\"line-height: 2.5; direction: ltr\">There are no major roads through Golm, only state road (Landesstraße) \n",
              "<mark class=\"entity\" style=\"background: #ddd; padding: 0.45em 0.6em; margin: 0 0.25em; line-height: 1; border-radius: 0.35em;\">\n",
              "    L 902\n",
              "    <span style=\"font-size: 0.8em; font-weight: bold; line-height: 1; border-radius: 0.35em; vertical-align: middle; margin-left: 0.5rem\">Answer</span>\n",
              "</mark>\n",
              " passes through the northern parts of the village area and offers the shortest connection to federal highway (Bundesstraße) \n",
              "<mark class=\"entity\" style=\"background: #ddd; padding: 0.45em 0.6em; margin: 0 0.25em; line-height: 1; border-radius: 0.35em;\">\n",
              "    273\n",
              "    <span style=\"font-size: 0.8em; font-weight: bold; line-height: 1; border-radius: 0.35em; vertical-align: middle; margin-left: 0.5rem\">Answer</span>\n",
              "</mark>\n",
              ".  The latter can also be reached following a road extending east from Golm past Sanssouci Park to the Jägervorstadt quarter of Potsdam. The railway between Wildpark and Nauen was opened in \n",
              "<mark class=\"entity\" style=\"background: #ddd; padding: 0.45em 0.6em; margin: 0 0.25em; line-height: 1; border-radius: 0.35em;\">\n",
              "    1902\n",
              "    <span style=\"font-size: 0.8em; font-weight: bold; line-height: 1; border-radius: 0.35em; vertical-align: middle; margin-left: 0.5rem\">Answer</span>\n",
              "</mark>\n",
              " as part of the single-tracked bypass railway (\n",
              "<mark class=\"entity\" style=\"background: #ddd; padding: 0.45em 0.6em; margin: 0 0.25em; line-height: 1; border-radius: 0.35em;\">\n",
              "    Umgehungsbahn\n",
              "    <span style=\"font-size: 0.8em; font-weight: bold; line-height: 1; border-radius: 0.35em; vertical-align: middle; margin-left: 0.5rem\">Answer</span>\n",
              "</mark>\n",
              ") intended to connect the radial railway lines originating from Berlin.  [...]</div></span>"
            ],
            "text/plain": [
              "<IPython.core.display.HTML object>"
            ]
          },
          "metadata": {
            "tags": []
          }
        }
      ]
    },
    {
      "cell_type": "code",
      "metadata": {
        "id": "lu9hFZbT-nGD",
        "colab": {
          "base_uri": "https://localhost:8080/"
        },
        "outputId": "c2a74f3e-3de6-4540-8db0-af6523cc97c6"
      },
      "source": [
        "pip install scikit-learn sklearn_crfsuite -U"
      ],
      "execution_count": 41,
      "outputs": [
        {
          "output_type": "stream",
          "text": [
            "Requirement already up-to-date: scikit-learn in /usr/local/lib/python3.7/dist-packages (0.24.2)\n",
            "Requirement already up-to-date: sklearn_crfsuite in /usr/local/lib/python3.7/dist-packages (0.3.6)\n",
            "Requirement already satisfied, skipping upgrade: joblib>=0.11 in /usr/local/lib/python3.7/dist-packages (from scikit-learn) (1.0.1)\n",
            "Requirement already satisfied, skipping upgrade: numpy>=1.13.3 in /usr/local/lib/python3.7/dist-packages (from scikit-learn) (1.19.5)\n",
            "Requirement already satisfied, skipping upgrade: scipy>=0.19.1 in /usr/local/lib/python3.7/dist-packages (from scikit-learn) (1.4.1)\n",
            "Requirement already satisfied, skipping upgrade: threadpoolctl>=2.0.0 in /usr/local/lib/python3.7/dist-packages (from scikit-learn) (2.1.0)\n",
            "Requirement already satisfied, skipping upgrade: six in /usr/local/lib/python3.7/dist-packages (from sklearn_crfsuite) (1.15.0)\n",
            "Requirement already satisfied, skipping upgrade: tabulate in /usr/local/lib/python3.7/dist-packages (from sklearn_crfsuite) (0.8.9)\n",
            "Requirement already satisfied, skipping upgrade: python-crfsuite>=0.8.3 in /usr/local/lib/python3.7/dist-packages (from sklearn_crfsuite) (0.9.7)\n",
            "Requirement already satisfied, skipping upgrade: tqdm>=2.0 in /usr/local/lib/python3.7/dist-packages (from sklearn_crfsuite) (4.41.1)\n"
          ],
          "name": "stdout"
        }
      ]
    },
    {
      "cell_type": "code",
      "metadata": {
        "colab": {
          "base_uri": "https://localhost:8080/"
        },
        "id": "x8b9yhUvJVJ9",
        "outputId": "3e85e0d7-9d0f-455e-e99d-b2473ffd9923"
      },
      "source": [
        "import pandas as pd\n",
        "import spacy\n",
        "from spacy.tokens import Doc\n",
        "from tqdm import tqdm\n",
        "import ast\n",
        "from Custom import *\n",
        "import re\n",
        "\n",
        "spacy.require_gpu()\n",
        "dataset = \"squad\"\n",
        "df = pd.read_csv(\"/content/gdrive/MyDrive/mt-qg-data/01_data/preprocessedData/\"+dataset+\"/paragraph/test.csv\")\n",
        "df[\"askable_tokens\"] = [ast.literal_eval(t) for t in df[\"askable_tokens\"]]\n",
        "df[\"paragraph_tokens\"] = [ast.literal_eval(t) for t in df[\"paragraph_tokens\"]]\n",
        "\n",
        "print(df.columns)\n",
        "\n",
        "nlp = spacy.load('/content/gdrive/MyDrive/mt-qg-data/00_models/spacy_target_answer/'+dataset+'/training/model-best')\n",
        "def custom_tokenizer(nlp):\n",
        "    return lambda text : Doc(nlp.vocab, words=text)\n",
        "\n",
        "nlp.tokenizer = custom_tokenizer(nlp)\n",
        "nlp.add_pipe(\"sentencizer\")\n",
        "\n",
        "\n",
        "pred_y = []\n",
        "true_y = []\n",
        "\n",
        "with open(\"./trf_results.txt\", \"a\") as file:\n",
        "  for doc, y in tqdm(zip(nlp.pipe(df[\"paragraph_tokens\"]), io2iob(df[\"askable_tokens\"]))):\n",
        "    labels = []\n",
        "    for sent in doc.sents:\n",
        "      for token, y_ in zip(sent, y[sent.start:sent.end]):\n",
        "        if token.ent_iob_ ==\"O\":\n",
        "          labels.append(\"O\")\n",
        "          label_ = \"O\"\n",
        "        else:\n",
        "          labels.append(token.ent_iob_ + \"-\" + token.ent_type_)\n",
        "          label_ = token.ent_iob_ + \"-\" + token.ent_type_\n",
        "        file.write(\"{} {} {}\\n\".format(token.text, y_, label_))\n",
        "      pred_y.append(labels)\n",
        "      true_y.append(y) \n",
        "      file.write(\"\\n\")"
      ],
      "execution_count": 42,
      "outputs": [
        {
          "output_type": "stream",
          "text": [
            "Index(['Unnamed: 0', 'text_title', 'paragraph_text', 'paragraph_tokens',\n",
            "       'askable_tokens'],\n",
            "      dtype='object')\n"
          ],
          "name": "stdout"
        },
        {
          "output_type": "stream",
          "text": [
            "\n",
            "0it [00:00, ?it/s]\u001b[A\n",
            "1it [00:01,  1.68s/it]\u001b[A\n",
            "129it [00:04,  1.18s/it]\u001b[A\n",
            "257it [00:07,  1.20it/s]\u001b[A\n",
            "385it [00:10,  1.69it/s]\u001b[A\n",
            "513it [00:12,  2.39it/s]\u001b[A\n",
            "641it [00:15,  3.34it/s]\u001b[A\n",
            "769it [00:17,  4.64it/s]\u001b[A\n",
            "897it [00:19,  6.40it/s]\u001b[A\n",
            "1025it [00:22,  8.67it/s]\u001b[A\n",
            "1204it [00:23, 51.24it/s]\n"
          ],
          "name": "stderr"
        }
      ]
    },
    {
      "cell_type": "code",
      "metadata": {
        "colab": {
          "base_uri": "https://localhost:8080/",
          "height": 54
        },
        "id": "igKchnThohvW",
        "outputId": "5b51c3c9-8555-4c6d-fa57-1d9dca580767"
      },
      "source": [
        "from sklearn_crfsuite import metrics\n",
        "metrics.flat_classification_report(io2iob(true_y), pred_y, digits=5)"
      ],
      "execution_count": 43,
      "outputs": [
        {
          "output_type": "execute_result",
          "data": {
            "application/vnd.google.colaboratory.intrinsic+json": {
              "type": "string"
            },
            "text/plain": [
              "'              precision    recall  f1-score   support\\n\\n    B-Answer    0.41202   0.25524   0.31521     42999\\n    I-Answer    0.47930   0.14504   0.22269    152252\\n           O    0.84233   0.95940   0.89706    881750\\n\\n    accuracy                        0.81616   1077001\\n   macro avg    0.57789   0.45322   0.47832   1077001\\nweighted avg    0.77383   0.81616   0.77850   1077001\\n'"
            ]
          },
          "metadata": {
            "tags": []
          },
          "execution_count": 43
        }
      ]
    },
    {
      "cell_type": "code",
      "metadata": {
        "id": "9f9e2Kge3f8o",
        "colab": {
          "base_uri": "https://localhost:8080/"
        },
        "outputId": "06422dd3-0800-48a4-d003-9ef3c711d9f3"
      },
      "source": [
        "pairs = {\n",
        "  \"answer_sentece_token\": [],\n",
        "  \"answer\": [],\n",
        "  \"answer_token\": [],\n",
        "  \"question_token\": [],\n",
        "}\n",
        "\n",
        "for doc in tqdm(nlp.pipe(df[\"paragraph_tokens\"])):\n",
        "  for sent in doc.sents:\n",
        "    for entity in sent.ents:\n",
        "      pairs[\"answer_sentece_token\"].append([t.text for t in sent])\n",
        "      pairs[\"answer\"].append(entity.text)\n",
        "      pairs[\"answer_token\"].append([t.text for t in entity])\n",
        "      pairs[\"question_token\"].append([])"
      ],
      "execution_count": 45,
      "outputs": [
        {
          "output_type": "stream",
          "text": [
            "\n",
            "\n",
            "0it [00:00, ?it/s]\u001b[A\u001b[A\n",
            "\n",
            "1it [00:01,  1.62s/it]\u001b[A\u001b[A\n",
            "\n",
            "129it [00:03,  1.14s/it]\u001b[A\u001b[A\n",
            "\n",
            "257it [00:06,  1.24it/s]\u001b[A\u001b[A\n",
            "\n",
            "385it [00:09,  1.75it/s]\u001b[A\u001b[A\n",
            "\n",
            "513it [00:11,  2.47it/s]\u001b[A\u001b[A\n",
            "\n",
            "641it [00:14,  3.46it/s]\u001b[A\u001b[A\n",
            "\n",
            "769it [00:16,  4.80it/s]\u001b[A\u001b[A\n",
            "\n",
            "897it [00:19,  6.60it/s]\u001b[A\u001b[A\n",
            "\n",
            "1025it [00:21,  8.94it/s]\u001b[A\u001b[A\n",
            "\n",
            "1204it [00:22, 52.87it/s]\n"
          ],
          "name": "stderr"
        }
      ]
    },
    {
      "cell_type": "code",
      "metadata": {
        "id": "vrFRtmC95D6j"
      },
      "source": [
        "target_answer_seq = pd.DataFrame(pairs)"
      ],
      "execution_count": 46,
      "outputs": []
    },
    {
      "cell_type": "code",
      "metadata": {
        "id": "EmiVraQbqzGE"
      },
      "source": [
        "target_answer_seq.to_csv(\"/content/gdrive/MyDrive/mt-qg-data/01_data/preprocessedData/\"+dataset+\"/question_answer/trf_test.csv\")"
      ],
      "execution_count": 47,
      "outputs": []
    },
    {
      "cell_type": "code",
      "metadata": {
        "id": "0pHd3OE1q1gX"
      },
      "source": [
        ""
      ],
      "execution_count": null,
      "outputs": []
    }
  ]
}