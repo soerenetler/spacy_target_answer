{
  "nbformat": 4,
  "nbformat_minor": 0,
  "metadata": {
    "colab": {
      "name": "Untitled3.ipynb",
      "provenance": [],
      "authorship_tag": "ABX9TyPEzZ8nkc2lSHfJivkjmk+Z",
      "include_colab_link": true
    },
    "kernelspec": {
      "name": "python3",
      "display_name": "Python 3"
    },
    "language_info": {
      "name": "python"
    },
    "accelerator": "GPU"
  },
  "cells": [
    {
      "cell_type": "markdown",
      "metadata": {
        "id": "view-in-github",
        "colab_type": "text"
      },
      "source": [
        "<a href=\"https://colab.research.google.com/github/soerenetler/spacy_target_answer/blob/master/setup.ipynb\" target=\"_parent\"><img src=\"https://colab.research.google.com/assets/colab-badge.svg\" alt=\"Open In Colab\"/></a>"
      ]
    },
    {
      "cell_type": "code",
      "metadata": {
        "id": "1v_oQY0ciH-C",
        "colab": {
          "base_uri": "https://localhost:8080/"
        },
        "outputId": "aa455ce1-e8bb-4f51-8e62-a02e263188d5"
      },
      "source": [
        "import os\n",
        "os.system(\"git clone https://github.com/soerenetler/squad-question-generation.git\")\n",
        "os.system(\"git clone https://github.com/soerenetler/spacy_target_answer.git\")\n",
        "os.system(\"git clone https://github.com/soerenetler/crf_target_answer.git\")\n",
        "\n",
        "from google.colab import drive\n",
        "drive.mount('/content/gdrive')"
      ],
      "execution_count": 3,
      "outputs": [
        {
          "output_type": "stream",
          "text": [
            "Mounted at /content/gdrive\n"
          ],
          "name": "stdout"
        }
      ]
    },
    {
      "cell_type": "code",
      "metadata": {
        "colab": {
          "base_uri": "https://localhost:8080/"
        },
        "id": "LV0knGnkAs1c",
        "outputId": "6144e447-2531-45e9-ab18-dc3036d82096"
      },
      "source": [
        "!(cd spacy_target_answer; git pull)\n",
        "!(cd squad-question-generation/; git pull)"
      ],
      "execution_count": 4,
      "outputs": [
        {
          "output_type": "stream",
          "text": [
            "Already up to date.\n",
            "Already up to date.\n"
          ],
          "name": "stdout"
        }
      ]
    },
    {
      "cell_type": "code",
      "metadata": {
        "id": "B1vT4s2s4GoA"
      },
      "source": [
        "!cp crf_target_answer/Custom.py Custom.py"
      ],
      "execution_count": 5,
      "outputs": []
    },
    {
      "cell_type": "code",
      "metadata": {
        "colab": {
          "base_uri": "https://localhost:8080/"
        },
        "id": "yjPWdFiiI4xi",
        "outputId": "f1a4f5a8-7f2f-4e9a-e4c3-e13f898a7d2d"
      },
      "source": [
        "!nvidia-smi"
      ],
      "execution_count": 6,
      "outputs": [
        {
          "output_type": "stream",
          "text": [
            "Wed Apr 28 10:11:38 2021       \n",
            "+-----------------------------------------------------------------------------+\n",
            "| NVIDIA-SMI 465.19.01    Driver Version: 460.32.03    CUDA Version: 11.2     |\n",
            "|-------------------------------+----------------------+----------------------+\n",
            "| GPU  Name        Persistence-M| Bus-Id        Disp.A | Volatile Uncorr. ECC |\n",
            "| Fan  Temp  Perf  Pwr:Usage/Cap|         Memory-Usage | GPU-Util  Compute M. |\n",
            "|                               |                      |               MIG M. |\n",
            "|===============================+======================+======================|\n",
            "|   0  Tesla P100-PCIE...  Off  | 00000000:00:04.0 Off |                    0 |\n",
            "| N/A   36C    P0    27W / 250W |      0MiB / 16280MiB |      0%      Default |\n",
            "|                               |                      |                  N/A |\n",
            "+-------------------------------+----------------------+----------------------+\n",
            "                                                                               \n",
            "+-----------------------------------------------------------------------------+\n",
            "| Processes:                                                                  |\n",
            "|  GPU   GI   CI        PID   Type   Process name                  GPU Memory |\n",
            "|        ID   ID                                                   Usage      |\n",
            "|=============================================================================|\n",
            "|  No running processes found                                                 |\n",
            "+-----------------------------------------------------------------------------+\n"
          ],
          "name": "stdout"
        }
      ]
    },
    {
      "cell_type": "code",
      "metadata": {
        "id": "HXgEs_qGIxz-"
      },
      "source": [
        "#!pip install --quiet -U pip setuptools wheel"
      ],
      "execution_count": 7,
      "outputs": []
    },
    {
      "cell_type": "code",
      "metadata": {
        "id": "1m6YK0fTI0j2",
        "colab": {
          "base_uri": "https://localhost:8080/"
        },
        "outputId": "c95acb39-1bf3-4bfc-a102-1f9a7ff52242"
      },
      "source": [
        "!pip install --quiet -U spacy[cuda110,transformers,lookups]"
      ],
      "execution_count": 8,
      "outputs": [
        {
          "output_type": "stream",
          "text": [
            "\u001b[K     |████████████████████████████████| 12.8MB 7.0MB/s \n",
            "\u001b[K     |████████████████████████████████| 1.1MB 52.0MB/s \n",
            "\u001b[K     |████████████████████████████████| 460kB 54.1MB/s \n",
            "\u001b[K     |████████████████████████████████| 51kB 7.6MB/s \n",
            "\u001b[K     |████████████████████████████████| 9.1MB 57.3MB/s \n",
            "\u001b[K     |████████████████████████████████| 165.3MB 100kB/s \n",
            "\u001b[K     |████████████████████████████████| 93.4MB 53kB/s \n",
            "\u001b[K     |████████████████████████████████| 122kB 62.7MB/s \n",
            "\u001b[K     |████████████████████████████████| 2.1MB 53.8MB/s \n",
            "\u001b[K     |████████████████████████████████| 1.0MB 51.3MB/s \n",
            "\u001b[K     |████████████████████████████████| 901kB 51.2MB/s \n",
            "\u001b[K     |████████████████████████████████| 3.3MB 48.8MB/s \n",
            "\u001b[?25h  Building wheel for smart-open (setup.py) ... \u001b[?25l\u001b[?25hdone\n"
          ],
          "name": "stdout"
        }
      ]
    },
    {
      "cell_type": "code",
      "metadata": {
        "colab": {
          "base_uri": "https://localhost:8080/"
        },
        "id": "N__oOtlnI8t8",
        "outputId": "044d331b-7652-412a-9c1c-db02030d2dcb"
      },
      "source": [
        "!python -m spacy download en_core_web_sm --quiet\n",
        "!python -m spacy download en_core_web_trf --quiet\n",
        "!python -m spacy download en_core_web_lg --quiet"
      ],
      "execution_count": 9,
      "outputs": [
        {
          "output_type": "stream",
          "text": [
            "2021-04-28 10:12:21.719766: I tensorflow/stream_executor/platform/default/dso_loader.cc:49] Successfully opened dynamic library libcudart.so.11.0\n",
            "\u001b[K     |████████████████████████████████| 13.7MB 8.3MB/s \n",
            "\u001b[?25h\u001b[38;5;2m✔ Download and installation successful\u001b[0m\n",
            "You can now load the package via spacy.load('en_core_web_sm')\n",
            "2021-04-28 10:12:29.476343: I tensorflow/stream_executor/platform/default/dso_loader.cc:49] Successfully opened dynamic library libcudart.so.11.0\n",
            "\u001b[K     |████████████████████████████████| 459.7MB 39kB/s \n",
            "\u001b[?25h\u001b[38;5;2m✔ Download and installation successful\u001b[0m\n",
            "You can now load the package via spacy.load('en_core_web_trf')\n",
            "2021-04-28 10:13:08.511054: I tensorflow/stream_executor/platform/default/dso_loader.cc:49] Successfully opened dynamic library libcudart.so.11.0\n",
            "\u001b[K     |████████████████████████████████| 778.8MB 23kB/s \n",
            "\u001b[?25h\u001b[38;5;2m✔ Download and installation successful\u001b[0m\n",
            "You can now load the package via spacy.load('en_core_web_lg')\n"
          ],
          "name": "stdout"
        }
      ]
    },
    {
      "cell_type": "code",
      "metadata": {
        "colab": {
          "base_uri": "https://localhost:8080/"
        },
        "id": "0sMcLq1RSiVC",
        "outputId": "482c9a67-053a-4997-a54d-5c1dec3d21dc"
      },
      "source": [
        "!spacy validate"
      ],
      "execution_count": 13,
      "outputs": [
        {
          "output_type": "stream",
          "text": [
            "2021-04-28 10:15:40.727589: I tensorflow/stream_executor/platform/default/dso_loader.cc:49] Successfully opened dynamic library libcudart.so.11.0\n",
            "\u001b[2K\u001b[38;5;2m✔ Loaded compatibility table\u001b[0m\n",
            "\u001b[1m\n",
            "================= Installed pipeline packages (spaCy v3.0.6) =================\u001b[0m\n",
            "\u001b[38;5;4mℹ spaCy installation: /usr/local/lib/python3.7/dist-packages/spacy\u001b[0m\n",
            "\n",
            "NAME              SPACY            VERSION                            \n",
            "en_core_web_lg    >=3.0.0,<3.1.0   \u001b[38;5;2m3.0.0\u001b[0m   \u001b[38;5;2m✔\u001b[0m\n",
            "en_core_web_trf   >=3.0.0,<3.1.0   \u001b[38;5;2m3.0.0\u001b[0m   \u001b[38;5;2m✔\u001b[0m\n",
            "en_core_web_sm    >=3.0.0,<3.1.0   \u001b[38;5;2m3.0.0\u001b[0m   \u001b[38;5;2m✔\u001b[0m\n",
            "\n"
          ],
          "name": "stdout"
        }
      ]
    },
    {
      "cell_type": "code",
      "metadata": {
        "id": "GAHNgLyJG4ol",
        "outputId": "e809ab23-42cb-4fe4-8172-bea9b4cf2076",
        "colab": {
          "base_uri": "https://localhost:8080/"
        }
      },
      "source": [
        "# Train NER\n",
        "!python -m spacy project run corpus spacy_target_answer"
      ],
      "execution_count": 9,
      "outputs": [
        {
          "output_type": "stream",
          "text": [
            "2021-04-26 19:46:40.104800: I tensorflow/stream_executor/platform/default/dso_loader.cc:49] Successfully opened dynamic library libcudart.so.11.0\n",
            "\u001b[1m\n",
            "=================================== corpus ===================================\u001b[0m\n",
            "Running command: /usr/bin/python3 -m spacy convert /content/gdrive/MyDrive/mt-qg-data/01_data/preprocessedData/quac/sentences_conll corpus -c ner\n",
            "2021-04-26 19:46:45.057616: I tensorflow/stream_executor/platform/default/dso_loader.cc:49] Successfully opened dynamic library libcudart.so.11.0\n",
            "\u001b[38;5;4mℹ Auto-detected token-per-line NER format\u001b[0m\n",
            "\u001b[38;5;3m⚠ Document delimiters found, automatic document segmentation with `-n`\n",
            "disabled.\u001b[0m\n",
            "\u001b[38;5;2m✔ Generated output file (2302 documents): corpus/dev.spacy\u001b[0m\n",
            "\u001b[38;5;3m⚠ Document delimiters found, automatic document segmentation with `-n`\n",
            "disabled.\u001b[0m\n",
            "\u001b[38;5;2m✔ Generated output file (1000 documents): corpus/test.spacy\u001b[0m\n",
            "\u001b[38;5;3m⚠ Document delimiters found, automatic document segmentation with `-n`\n",
            "disabled.\u001b[0m\n",
            "\u001b[38;5;2m✔ Generated output file (9263 documents): corpus/train.spacy\u001b[0m\n"
          ],
          "name": "stdout"
        }
      ]
    },
    {
      "cell_type": "code",
      "metadata": {
        "id": "oEvzlYTMG6MM",
        "outputId": "bb794ec0-b092-4ad0-9f2a-9c5013ddc9be",
        "colab": {
          "base_uri": "https://localhost:8080/"
        }
      },
      "source": [
        "!python -m spacy init fill-config ./spacy_target_answer/configs/base_config.cfg ./spacy_target_answer/configs/config.cfg\n",
        "!python -m spacy project run train spacy_target_answer"
      ],
      "execution_count": 13,
      "outputs": [
        {
          "output_type": "stream",
          "text": [
            "2021-04-26 07:03:00.127155: I tensorflow/stream_executor/platform/default/dso_loader.cc:49] Successfully opened dynamic library libcudart.so.11.0\n",
            "\u001b[38;5;2m✔ Auto-filled config with all values\u001b[0m\n",
            "\u001b[38;5;2m✔ Saved config\u001b[0m\n",
            "spacy_target_answer/configs/config.cfg\n",
            "You can now add your data and train your pipeline:\n",
            "python -m spacy train config.cfg --paths.train ./train.spacy --paths.dev ./dev.spacy\n",
            "2021-04-26 07:03:04.039780: I tensorflow/stream_executor/platform/default/dso_loader.cc:49] Successfully opened dynamic library libcudart.so.11.0\n",
            "\u001b[1m\n",
            "=================================== train ===================================\u001b[0m\n",
            "Running command: /usr/bin/python3 -m spacy train configs/config.cfg -o training/ --gpu-id 0 --paths.train corpus/train.spacy --paths.dev corpus/dev.spacy --output /content/gdrive/MyDrive/mt-qg-data/00_models/spacy_target_answer/quac/training\n",
            "2021-04-26 07:03:06.832328: I tensorflow/stream_executor/platform/default/dso_loader.cc:49] Successfully opened dynamic library libcudart.so.11.0\n",
            "\u001b[38;5;4mℹ Using GPU: 0\u001b[0m\n",
            "\u001b[1m\n",
            "=========================== Initializing pipeline ===========================\u001b[0m\n",
            "[2021-04-26 07:03:09,418] [INFO] Set up nlp object from config\n",
            "[2021-04-26 07:03:09,427] [INFO] Pipeline: ['transformer', 'ner']\n",
            "[2021-04-26 07:03:09,431] [INFO] Created vocabulary\n",
            "[2021-04-26 07:03:09,431] [INFO] Finished initializing nlp object\n",
            "Downloading: 100% 481/481 [00:00<00:00, 632kB/s]\n",
            "Downloading: 100% 899k/899k [00:00<00:00, 13.7MB/s]\n",
            "Downloading: 100% 456k/456k [00:00<00:00, 7.27MB/s]\n",
            "Downloading: 100% 1.36M/1.36M [00:00<00:00, 16.7MB/s]\n",
            "Downloading: 100% 501M/501M [00:07<00:00, 64.2MB/s]\n",
            "[2021-04-26 07:06:31,481] [INFO] Initialized pipeline components: ['transformer', 'ner']\n",
            "\u001b[38;5;2m✔ Initialized pipeline\u001b[0m\n",
            "\u001b[1m\n",
            "============================= Training pipeline =============================\u001b[0m\n",
            "\u001b[38;5;4mℹ Pipeline: ['transformer', 'ner']\u001b[0m\n",
            "\u001b[38;5;4mℹ Initial learn rate: 0.0\u001b[0m\n",
            "E    #       LOSS TRANS...  LOSS NER  ENTS_F  ENTS_P  ENTS_R  SCORE \n",
            "---  ------  -------------  --------  ------  ------  ------  ------\n",
            "  0       0       19010.83   1083.75    0.15    0.12    0.21    0.00\n",
            "  0     200      401751.90  43361.80    0.00    0.00    0.00    0.00\n",
            "  0     400        4627.12   7217.22    0.00    0.00    0.00    0.00\n",
            "  0     600        3783.27   6908.37    5.60   25.50    3.15    0.06\n",
            "  0     800        3612.73   6836.38    5.53   24.33    3.12    0.06\n",
            "  0    1000        3471.18   6752.02    0.21   41.18    0.10    0.00\n",
            "  0    1200        3240.22   6637.51    4.05   26.50    2.19    0.04\n",
            "  0    1400        3240.79   6763.08    4.74   27.44    2.60    0.05\n",
            "  0    1600        3010.89   6548.87    1.08   31.90    0.55    0.01\n",
            "  0    1800        2919.47   6645.09    5.83   24.75    3.30    0.06\n",
            "  0    2000        2825.14   6742.59    0.15   31.25    0.07    0.00\n",
            "  0    2200        2916.10   6723.27    5.70   16.29    3.45    0.06\n",
            "  0    2400        2632.87   6704.44    3.72   28.00    1.99    0.04\n",
            "  0    2600        2695.79   6724.74    0.97   28.57    0.49    0.01\n",
            "  1    2800        2422.35   6362.74    9.06   25.42    5.51    0.09\n",
            "  1    3000        2439.33   6543.04    2.10   25.52    1.09    0.02\n",
            "  1    3200        2455.97   6507.48    8.84   20.65    5.62    0.09\n",
            "  1    3400        2406.83   6404.31    8.24   24.79    4.94    0.08\n",
            "  1    3600        2318.30   6638.28    2.57   31.97    1.34    0.03\n",
            "  1    3800        2330.84   6491.95    7.46   26.80    4.33    0.07\n",
            "  1    4000        2221.41   6529.80    5.59   27.23    3.12    0.06\n",
            "  1    4200        2163.28   6620.25    3.90   25.65    2.11    0.04\n",
            "  1    4400        2178.52   6658.44    1.67   26.54    0.86    0.02\n",
            "\u001b[38;5;2m✔ Saved pipeline to output directory\u001b[0m\n",
            "/content/gdrive/MyDrive/mt-qg-data/00_models/spacy_target_answer/quac/training/model-last\n"
          ],
          "name": "stdout"
        }
      ]
    },
    {
      "cell_type": "code",
      "metadata": {
        "id": "Y1EGNM1WG8e4",
        "outputId": "39b6f0b3-3d86-4f19-8c23-9f82ff3726c3",
        "colab": {
          "base_uri": "https://localhost:8080/"
        }
      },
      "source": [
        "!python -m spacy project run evaluate spacy_target_answer"
      ],
      "execution_count": 14,
      "outputs": [
        {
          "output_type": "stream",
          "text": [
            "2021-04-26 13:43:10.899696: I tensorflow/stream_executor/platform/default/dso_loader.cc:49] Successfully opened dynamic library libcudart.so.11.0\n",
            "\u001b[1m\n",
            "================================== evaluate ==================================\u001b[0m\n",
            "Running command: /usr/bin/python3 -m spacy evaluate /content/gdrive/MyDrive/mt-qg-data/00_models/spacy_target_answer/quac/training/model-best ./corpus/test.spacy --output /content/gdrive/MyDrive/mt-qg-data/00_models/spacy_target_answer/quac/metrics/config.json --gpu-id 0\n",
            "2021-04-26 13:43:15.888179: I tensorflow/stream_executor/platform/default/dso_loader.cc:49] Successfully opened dynamic library libcudart.so.11.0\n",
            "\u001b[38;5;4mℹ Using GPU: 0\u001b[0m\n",
            "\u001b[1m\n",
            "================================== Results ==================================\u001b[0m\n",
            "\n",
            "TOK     -    \n",
            "NER P   50.37\n",
            "NER R   6.37 \n",
            "NER F   11.31\n",
            "SPEED   978  \n",
            "\n",
            "\u001b[1m\n",
            "=============================== NER (per type) ===============================\u001b[0m\n",
            "\n",
            "             P      R       F\n",
            "Answer   50.37   6.37   11.31\n",
            "\n",
            "\u001b[38;5;2m✔ Saved results to\n",
            "/content/gdrive/MyDrive/mt-qg-data/00_models/spacy_target_answer/quac/metrics/config.json\u001b[0m\n"
          ],
          "name": "stdout"
        }
      ]
    },
    {
      "cell_type": "code",
      "metadata": {
        "colab": {
          "base_uri": "https://localhost:8080/",
          "height": 87
        },
        "id": "jhK_ESJYHFt1",
        "outputId": "f5a8db80-fd6a-4a91-9817-ee8ad92b092a"
      },
      "source": [
        "import spacy\n",
        "nlp = spacy.load('/content/gdrive/MyDrive/mt-qg-data/00_models/spacy_target_answer/quac/training/model-best')\n",
        "doc = nlp(u\"There are no major roads through Golm, only state road (Landesstraße) L 902 passes through the northern parts of the village area and offers the shortest connection to federal highway (Bundesstraße) 273.  The latter can also be reached following a road extending east from Golm past Sanssouci Park to the Jägervorstadt quarter of Potsdam. The railway between Wildpark and Nauen was opened in 1902 as part of the single-tracked bypass railway (Umgehungsbahn) intended to connect the radial railway lines originating from Berlin. [...]\")\n",
        "spacy.displacy.render(doc, style='ent', jupyter =True)"
      ],
      "execution_count": 7,
      "outputs": [
        {
          "output_type": "display_data",
          "data": {
            "text/html": [
              "<span class=\"tex2jax_ignore\"><div class=\"entities\" style=\"line-height: 2.5; direction: ltr\">\n",
              "<mark class=\"entity\" style=\"background: #ddd; padding: 0.45em 0.6em; margin: 0 0.25em; line-height: 1; border-radius: 0.35em;\">\n",
              "    There are no major roads through Golm, only state road (Landesstraße) L 902 passes through the northern parts of the village area and offers the shortest connection to federal highway (Bundesstraße) 273.\n",
              "    <span style=\"font-size: 0.8em; font-weight: bold; line-height: 1; border-radius: 0.35em; vertical-align: middle; margin-left: 0.5rem\">Answer</span>\n",
              "</mark>\n",
              "  The latter can also be reached following a road extending east from Golm past Sanssouci Park to the Jägervorstadt quarter of Potsdam. The railway between Wildpark and Nauen was opened in 1902 as part of the single-tracked bypass railway (Umgehungsbahn) intended to connect the radial railway lines originating from Berlin. [...]</div></span>"
            ],
            "text/plain": [
              "<IPython.core.display.HTML object>"
            ]
          },
          "metadata": {
            "tags": []
          }
        }
      ]
    },
    {
      "cell_type": "code",
      "metadata": {
        "id": "iuQo4neh_4s5",
        "outputId": "2f858377-836b-431d-b68a-8376e1e2aecf",
        "colab": {
          "base_uri": "https://localhost:8080/",
          "height": 122
        }
      },
      "source": [
        "nlp2 = spacy.load('/content/gdrive/MyDrive/mt-qg-data/00_models/spacy_target_answer/squad/training/model-best')\n",
        "doc = nlp2(u\"There are no major roads through Golm, only state road (Landesstraße) L 902 passes through the northern parts of the village area and offers the shortest connection to federal highway (Bundesstraße) 273.  The latter can also be reached following a road extending east from Golm past Sanssouci Park to the Jägervorstadt quarter of Potsdam. The railway between Wildpark and Nauen was opened in 1902 as part of the single-tracked bypass railway (Umgehungsbahn) intended to connect the radial railway lines originating from Berlin.  [...]\")\n",
        "spacy.displacy.render(doc, style='ent', jupyter =True)"
      ],
      "execution_count": 8,
      "outputs": [
        {
          "output_type": "display_data",
          "data": {
            "text/html": [
              "<span class=\"tex2jax_ignore\"><div class=\"entities\" style=\"line-height: 2.5; direction: ltr\">There are no major roads through Golm, only state road (Landesstraße) \n",
              "<mark class=\"entity\" style=\"background: #ddd; padding: 0.45em 0.6em; margin: 0 0.25em; line-height: 1; border-radius: 0.35em;\">\n",
              "    L 902\n",
              "    <span style=\"font-size: 0.8em; font-weight: bold; line-height: 1; border-radius: 0.35em; vertical-align: middle; margin-left: 0.5rem\">Answer</span>\n",
              "</mark>\n",
              " passes through the northern parts of the village area and offers the shortest connection to federal highway (Bundesstraße) \n",
              "<mark class=\"entity\" style=\"background: #ddd; padding: 0.45em 0.6em; margin: 0 0.25em; line-height: 1; border-radius: 0.35em;\">\n",
              "    273\n",
              "    <span style=\"font-size: 0.8em; font-weight: bold; line-height: 1; border-radius: 0.35em; vertical-align: middle; margin-left: 0.5rem\">Answer</span>\n",
              "</mark>\n",
              ".  The latter can also be reached following a road extending east from Golm past Sanssouci Park to the Jägervorstadt quarter of Potsdam. The railway between Wildpark and Nauen was opened in \n",
              "<mark class=\"entity\" style=\"background: #ddd; padding: 0.45em 0.6em; margin: 0 0.25em; line-height: 1; border-radius: 0.35em;\">\n",
              "    1902\n",
              "    <span style=\"font-size: 0.8em; font-weight: bold; line-height: 1; border-radius: 0.35em; vertical-align: middle; margin-left: 0.5rem\">Answer</span>\n",
              "</mark>\n",
              " as part of the single-tracked bypass railway (\n",
              "<mark class=\"entity\" style=\"background: #ddd; padding: 0.45em 0.6em; margin: 0 0.25em; line-height: 1; border-radius: 0.35em;\">\n",
              "    Umgehungsbahn\n",
              "    <span style=\"font-size: 0.8em; font-weight: bold; line-height: 1; border-radius: 0.35em; vertical-align: middle; margin-left: 0.5rem\">Answer</span>\n",
              "</mark>\n",
              ") intended to connect the radial railway lines originating from Berlin.  [...]</div></span>"
            ],
            "text/plain": [
              "<IPython.core.display.HTML object>"
            ]
          },
          "metadata": {
            "tags": []
          }
        }
      ]
    },
    {
      "cell_type": "code",
      "metadata": {
        "id": "lu9hFZbT-nGD",
        "colab": {
          "base_uri": "https://localhost:8080/"
        },
        "outputId": "f5408eec-3a16-45e4-e1a0-d4a8bd022234"
      },
      "source": [
        "pip install scikit-learn sklearn_crfsuite -U"
      ],
      "execution_count": 12,
      "outputs": [
        {
          "output_type": "stream",
          "text": [
            "Collecting scikit-learn\n",
            "\u001b[?25l  Downloading https://files.pythonhosted.org/packages/f3/74/eb899f41d55f957e2591cde5528e75871f817d9fb46d4732423ecaca736d/scikit_learn-0.24.1-cp37-cp37m-manylinux2010_x86_64.whl (22.3MB)\n",
            "\u001b[K     |████████████████████████████████| 22.3MB 1.7MB/s \n",
            "\u001b[?25hCollecting sklearn_crfsuite\n",
            "  Downloading https://files.pythonhosted.org/packages/25/74/5b7befa513482e6dee1f3dd68171a6c9dfc14c0eaa00f885ffeba54fe9b0/sklearn_crfsuite-0.3.6-py2.py3-none-any.whl\n",
            "Collecting threadpoolctl>=2.0.0\n",
            "  Downloading https://files.pythonhosted.org/packages/f7/12/ec3f2e203afa394a149911729357aa48affc59c20e2c1c8297a60f33f133/threadpoolctl-2.1.0-py3-none-any.whl\n",
            "Requirement already satisfied, skipping upgrade: scipy>=0.19.1 in /usr/local/lib/python3.7/dist-packages (from scikit-learn) (1.4.1)\n",
            "Requirement already satisfied, skipping upgrade: joblib>=0.11 in /usr/local/lib/python3.7/dist-packages (from scikit-learn) (1.0.1)\n",
            "Requirement already satisfied, skipping upgrade: numpy>=1.13.3 in /usr/local/lib/python3.7/dist-packages (from scikit-learn) (1.19.5)\n",
            "Collecting python-crfsuite>=0.8.3\n",
            "\u001b[?25l  Downloading https://files.pythonhosted.org/packages/79/47/58f16c46506139f17de4630dbcfb877ce41a6355a1bbf3c443edb9708429/python_crfsuite-0.9.7-cp37-cp37m-manylinux1_x86_64.whl (743kB)\n",
            "\u001b[K     |████████████████████████████████| 747kB 53.2MB/s \n",
            "\u001b[?25hRequirement already satisfied, skipping upgrade: tabulate in /usr/local/lib/python3.7/dist-packages (from sklearn_crfsuite) (0.8.9)\n",
            "Requirement already satisfied, skipping upgrade: tqdm>=2.0 in /usr/local/lib/python3.7/dist-packages (from sklearn_crfsuite) (4.41.1)\n",
            "Requirement already satisfied, skipping upgrade: six in /usr/local/lib/python3.7/dist-packages (from sklearn_crfsuite) (1.15.0)\n",
            "Installing collected packages: threadpoolctl, scikit-learn, python-crfsuite, sklearn-crfsuite\n",
            "  Found existing installation: scikit-learn 0.22.2.post1\n",
            "    Uninstalling scikit-learn-0.22.2.post1:\n",
            "      Successfully uninstalled scikit-learn-0.22.2.post1\n",
            "Successfully installed python-crfsuite-0.9.7 scikit-learn-0.24.1 sklearn-crfsuite-0.3.6 threadpoolctl-2.1.0\n"
          ],
          "name": "stdout"
        }
      ]
    },
    {
      "cell_type": "code",
      "metadata": {
        "colab": {
          "base_uri": "https://localhost:8080/"
        },
        "id": "x8b9yhUvJVJ9",
        "outputId": "6ddf8d1f-c2f5-4457-a351-e9d0b56810d3"
      },
      "source": [
        "import pandas as pd\n",
        "import spacy\n",
        "from spacy.tokens import Doc\n",
        "from tqdm import tqdm\n",
        "import ast\n",
        "from Custom import *\n",
        "import re\n",
        "\n",
        "spacy.require_gpu()\n",
        "\n",
        "df = pd.read_csv(\"/content/gdrive/MyDrive/mt-qg-data/01_data/preprocessedData/quac/paragraph/test.csv\")\n",
        "df[\"askable_tokens\"] = [ast.literal_eval(t) for t in df[\"askable_tokens\"]]\n",
        "df[\"paragraph_tokens\"] = [ast.literal_eval(t) for t in df[\"paragraph_tokens\"]]\n",
        "\n",
        "print(df.columns)\n",
        "\n",
        "nlp = spacy.load('/content/gdrive/MyDrive/mt-qg-data/00_models/spacy_target_answer/quac/training/model-best')\n",
        "def custom_tokenizer(nlp):\n",
        "    return lambda text : Doc(nlp.vocab, words=text)\n",
        "\n",
        "nlp.tokenizer = custom_tokenizer(nlp)\n",
        "nlp.add_pipe(\"sentencizer\")\n",
        "\n",
        "\n",
        "pred_y = []\n",
        "true_y = []\n",
        "\n",
        "with open(\"./trf_results.txt\", \"a\") as file:\n",
        "  for doc, y in tqdm(zip(nlp.pipe(df[\"paragraph_tokens\"]), io2iob(df[\"askable_tokens\"]))):\n",
        "    labels = []\n",
        "    for sent in doc.sents:\n",
        "      for token, y_ in zip(sent, y[sent.start:sent.end]):\n",
        "        if token.ent_iob_ ==\"O\":\n",
        "          labels.append(\"O\")\n",
        "          label_ = \"O\"\n",
        "        else:\n",
        "          labels.append(token.ent_iob_ + \"-\" + token.ent_type_)\n",
        "          label_ = token.ent_iob_ + \"-\" + token.ent_type_\n",
        "        file.write(\"{} {} {}\\n\".format(token.text, y_, label_))\n",
        "      pred_y.append(labels)\n",
        "      true_y.append(y) \n",
        "      file.write(\"\\n\")"
      ],
      "execution_count": 13,
      "outputs": [
        {
          "output_type": "stream",
          "text": [
            "Index(['Unnamed: 0', 'text_title', 'paragraph_text', 'paragraph_tokens',\n",
            "       'askable_tokens'],\n",
            "      dtype='object')\n"
          ],
          "name": "stdout"
        },
        {
          "output_type": "stream",
          "text": [
            "1000it [01:15, 13.27it/s]\n"
          ],
          "name": "stderr"
        }
      ]
    },
    {
      "cell_type": "code",
      "metadata": {
        "colab": {
          "base_uri": "https://localhost:8080/",
          "height": 91
        },
        "id": "igKchnThohvW",
        "outputId": "35db6fbb-20f2-467f-e612-5f37a732e5cf"
      },
      "source": [
        "from sklearn_crfsuite import metrics\n",
        "metrics.flat_classification_report(io2iob(true_y), pred_y, digits=5)"
      ],
      "execution_count": 14,
      "outputs": [
        {
          "output_type": "stream",
          "text": [
            "/usr/local/lib/python3.7/dist-packages/sklearn/utils/validation.py:72: FutureWarning: Pass labels=None as keyword args. From version 1.0 (renaming of 0.25) passing these as positional arguments will result in an error\n",
            "  \"will result in an error\", FutureWarning)\n"
          ],
          "name": "stderr"
        },
        {
          "output_type": "execute_result",
          "data": {
            "application/vnd.google.colaboratory.intrinsic+json": {
              "type": "string"
            },
            "text/plain": [
              "'              precision    recall  f1-score   support\\n\\n    B-Answer    0.53055   0.10499   0.17529    135815\\n    I-Answer    0.61101   0.09050   0.15765   4177401\\n           O    0.69534   0.97306   0.81108   9182586\\n\\n    accuracy                        0.69114  13495802\\n   macro avg    0.61230   0.38952   0.38134  13495802\\nweighted avg    0.66758   0.69114   0.60242  13495802\\n'"
            ]
          },
          "metadata": {
            "tags": []
          },
          "execution_count": 14
        }
      ]
    },
    {
      "cell_type": "code",
      "metadata": {
        "id": "9f9e2Kge3f8o"
      },
      "source": [
        ""
      ],
      "execution_count": null,
      "outputs": []
    },
    {
      "cell_type": "code",
      "metadata": {
        "id": "vrFRtmC95D6j"
      },
      "source": [
        ""
      ],
      "execution_count": null,
      "outputs": []
    }
  ]
}